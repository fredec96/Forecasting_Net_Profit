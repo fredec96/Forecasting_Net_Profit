{
 "cells": [
  {
   "cell_type": "markdown",
   "metadata": {},
   "source": [
    "# Financial Planning with APIs and Monte Carlo Simulations\n",
    "\n",
    "This project creates two financial analysis tools by using a single Jupyter notebook:\n",
    "\n",
    "Part 1: A financial planner for emergencies. The members will be able to use this tool to visualize their current savings. The members can then determine if they have enough reserves for an emergency fund.\n",
    "\n",
    "Part 2: A financial planner for retirement. This tool will forecast the performance of their retirement portfolio in 30 years. To do this, the tool will make an Alpaca API call via the Alpaca SDK to get historical price data for use in Monte Carlo simulations.\n"
   ]
  },
  {
   "cell_type": "code",
   "execution_count": 1,
   "metadata": {},
   "outputs": [],
   "source": [
    "# Import the required libraries and dependencies\n",
    "import os\n",
    "import requests\n",
    "import json\n",
    "import pandas as pd\n",
    "from dotenv import load_dotenv\n",
    "import alpaca_trade_api as tradeapi\n",
    "from MCForecastTools import MCSimulation\n",
    "\n",
    "%matplotlib inline"
   ]
  },
  {
   "cell_type": "code",
   "execution_count": 2,
   "metadata": {},
   "outputs": [
    {
     "data": {
      "text/plain": [
       "True"
      ]
     },
     "execution_count": 2,
     "metadata": {},
     "output_type": "execute_result"
    }
   ],
   "source": [
    "# Load the environment variables from the .env file\n",
    "# by calling the load_dotenv function\n",
    "load_dotenv()"
   ]
  },
  {
   "cell_type": "markdown",
   "metadata": {},
   "source": [
    "## Part 1: Create a Financial Planner for Emergencies"
   ]
  },
  {
   "cell_type": "markdown",
   "metadata": {},
   "source": [
    "### Evaluate the Cryptocurrency Wallet by Using the Requests Library\n",
    "\n",
    "This section determines the current value of a member’s cryptocurrency wallet. Current prices for the Bitcoin and Ethereum cryptocurrencies are collected by using the Python Requests library. For the prototype, we assume that the member holds the 1.2 Bitcoins (BTC) and 5.3 Ethereum coins (ETH). All this is done by completing the following steps:\n",
    "\n",
    "1. Create a variable named `monthly_income`, and set its value to `12000`.\n",
    "\n",
    "2. Use the Requests library to get the current price (in US dollars) of Bitcoin (BTC) and Ethereum (ETH) by using the API endpoints that the starter code supplies.\n",
    "\n",
    "3. Navigate the JSON response object to access the current price of each coin, and store each in a variable.\n",
    "\n",
    "    >  Note the specific identifier for each cryptocurrency in the API JSON response. The Bitcoin identifier is `1`, and the Ethereum identifier is `1027`.\n",
    "\n",
    "4. Calculate the value, in US dollars, of the current amount of each cryptocurrency and of the entire cryptocurrency wallet.\n"
   ]
  },
  {
   "cell_type": "code",
   "execution_count": 3,
   "metadata": {},
   "outputs": [],
   "source": [
    "# The current number of coins for each cryptocurrency asset held in the portfolio.\n",
    "btc_coins = 1.2\n",
    "eth_coins = 5.3"
   ]
  },
  {
   "cell_type": "markdown",
   "metadata": {},
   "source": [
    "#### Step 1: Create a variable named `monthly_income`, and set its value to `12000`."
   ]
  },
  {
   "cell_type": "code",
   "execution_count": 4,
   "metadata": {},
   "outputs": [],
   "source": [
    "# The monthly amount for the member's household income\n",
    "monthly_income = 12000"
   ]
  },
  {
   "cell_type": "markdown",
   "metadata": {},
   "source": [
    "#### Review the endpoint URLs for the API calls to Free Crypto API in order to get the current pricing information for both BTC and ETH."
   ]
  },
  {
   "cell_type": "code",
   "execution_count": 5,
   "metadata": {},
   "outputs": [],
   "source": [
    "# The Free Crypto API Call endpoint URLs for the held cryptocurrency assets\n",
    "btc_url = \"https://api.alternative.me/v2/ticker/Bitcoin/?convert=USD\"\n",
    "eth_url = \"https://api.alternative.me/v2/ticker/Ethereum/?convert=USD\""
   ]
  },
  {
   "cell_type": "markdown",
   "metadata": {},
   "source": [
    "#### Step 2. Use the Requests library to get the current price (in US dollars) of Bitcoin (BTC) and Ethereum (ETH) by using the API endpoints that the starter code supplied."
   ]
  },
  {
   "cell_type": "code",
   "execution_count": 6,
   "metadata": {},
   "outputs": [
    {
     "name": "stdout",
     "output_type": "stream",
     "text": [
      "{\n",
      "    \"data\": {\n",
      "        \"1\": {\n",
      "            \"circulating_supply\": 19361643,\n",
      "            \"id\": 1,\n",
      "            \"last_updated\": 1682976577,\n",
      "            \"max_supply\": 21000000,\n",
      "            \"name\": \"Bitcoin\",\n",
      "            \"quotes\": {\n",
      "                \"USD\": {\n",
      "                    \"market_cap\": 538995271319,\n",
      "                    \"percent_change_1h\": 0.0601503272801019,\n",
      "                    \"percent_change_24h\": -5.42751113287314,\n",
      "                    \"percent_change_7d\": 0.927323334217493,\n",
      "                    \"percentage_change_1h\": 0.0601503272801019,\n",
      "                    \"percentage_change_24h\": -5.42751113287314,\n",
      "                    \"percentage_change_7d\": 0.927323334217493,\n",
      "                    \"price\": 27863.0,\n",
      "                    \"volume_24h\": 19547022648\n",
      "                }\n",
      "            },\n",
      "            \"rank\": 1,\n",
      "            \"symbol\": \"BTC\",\n",
      "            \"total_supply\": 19361643,\n",
      "            \"website_slug\": \"bitcoin\"\n",
      "        }\n",
      "    },\n",
      "    \"metadata\": {\n",
      "        \"error\": null,\n",
      "        \"num_cryptocurrencies\": 3119,\n",
      "        \"timestamp\": 1682976577\n",
      "    }\n",
      "}\n"
     ]
    }
   ],
   "source": [
    "# Using the Python requests library, make an API call to access the current price of BTC\n",
    "btc_response = requests.get(btc_url).json()\n",
    "\n",
    "\n",
    "# Use the json.dumps function to review the response data from the API call\n",
    "# Use the indent and sort_keys parameters to make the response object readable\n",
    "print(json.dumps(btc_response, indent=4, sort_keys=True))"
   ]
  },
  {
   "cell_type": "code",
   "execution_count": 7,
   "metadata": {},
   "outputs": [
    {
     "name": "stdout",
     "output_type": "stream",
     "text": [
      "{\n",
      "    \"data\": {\n",
      "        \"1027\": {\n",
      "            \"circulating_supply\": 120393880,\n",
      "            \"id\": 1027,\n",
      "            \"last_updated\": 1682976576,\n",
      "            \"max_supply\": 120393880,\n",
      "            \"name\": \"Ethereum\",\n",
      "            \"quotes\": {\n",
      "                \"USD\": {\n",
      "                    \"market_cap\": 218975675287,\n",
      "                    \"percent_change_1h\": 0.195919526511316,\n",
      "                    \"percent_change_24h\": -4.09179810147583,\n",
      "                    \"percent_change_7d\": -2.38457781452966,\n",
      "                    \"percentage_change_1h\": 0.195919526511316,\n",
      "                    \"percentage_change_24h\": -4.09179810147583,\n",
      "                    \"percentage_change_7d\": -2.38457781452966,\n",
      "                    \"price\": 1819.2,\n",
      "                    \"volume_24h\": 9600672720\n",
      "                }\n",
      "            },\n",
      "            \"rank\": 2,\n",
      "            \"symbol\": \"ETH\",\n",
      "            \"total_supply\": 120393880,\n",
      "            \"website_slug\": \"ethereum\"\n",
      "        }\n",
      "    },\n",
      "    \"metadata\": {\n",
      "        \"error\": null,\n",
      "        \"num_cryptocurrencies\": 3119,\n",
      "        \"timestamp\": 1682976576\n",
      "    }\n",
      "}\n"
     ]
    }
   ],
   "source": [
    "# Using the Python requests library, make an API call to access the current price ETH\n",
    "eth_response = requests.get(eth_url).json()\n",
    "\n",
    "# Use the json.dumps function to review the response data from the API call\n",
    "# Use the indent and sort_keys parameters to make the response object readable\n",
    "print(json.dumps(eth_response, indent=4, sort_keys=True))"
   ]
  },
  {
   "cell_type": "markdown",
   "metadata": {},
   "source": [
    "#### Step 3: Navigate the JSON response object to access the current price of each coin, and store each in a variable."
   ]
  },
  {
   "cell_type": "code",
   "execution_count": 8,
   "metadata": {},
   "outputs": [
    {
     "name": "stdout",
     "output_type": "stream",
     "text": [
      "The current price of Bitcoin is: $27863.00\n"
     ]
    }
   ],
   "source": [
    "# Navigate the BTC response object to access the current price of BTC\n",
    "btc_price = btc_response['data']['1']['quotes']['USD']['price']\n",
    "\n",
    "# Print the current price of BTC\n",
    "print(f'The current price of Bitcoin is: ${btc_price:.2f}')"
   ]
  },
  {
   "cell_type": "code",
   "execution_count": 9,
   "metadata": {},
   "outputs": [
    {
     "name": "stdout",
     "output_type": "stream",
     "text": [
      "The current price of Ethereum is: $1819.20\n"
     ]
    }
   ],
   "source": [
    "# Navigate the BTC response object to access the current price of ETH\n",
    "eth_price = eth_response['data']['1027']['quotes']['USD']['price']\n",
    "\n",
    "# Print the current price of ETH\n",
    "print(f'The current price of Ethereum is: ${eth_price:.2f}')"
   ]
  },
  {
   "cell_type": "markdown",
   "metadata": {},
   "source": [
    "### Step 4: Calculate the value, in US dollars, of the current amount of each cryptocurrency and of the entire cryptocurrency wallet."
   ]
  },
  {
   "cell_type": "code",
   "execution_count": 10,
   "metadata": {},
   "outputs": [
    {
     "name": "stdout",
     "output_type": "stream",
     "text": [
      "The current value of Bitcoin holdings is: $33435.60\n"
     ]
    }
   ],
   "source": [
    "# Compute the current value of the BTC holding \n",
    "btc_value = btc_price * btc_coins\n",
    "\n",
    "# Print current value of your holding in BTC\n",
    "print(f'The current value of Bitcoin holdings is: ${btc_value:.2f}')"
   ]
  },
  {
   "cell_type": "code",
   "execution_count": 11,
   "metadata": {},
   "outputs": [
    {
     "name": "stdout",
     "output_type": "stream",
     "text": [
      "The current value of Ethereum holdings is: $9641.76\n"
     ]
    }
   ],
   "source": [
    "# Compute the current value of the ETH holding \n",
    "eth_value = (eth_price * eth_coins)\n",
    "\n",
    "# Print current value of your holding in ETH\n",
    "print(f'The current value of Ethereum holdings is: ${eth_value:.2f}')"
   ]
  },
  {
   "cell_type": "code",
   "execution_count": 12,
   "metadata": {},
   "outputs": [
    {
     "name": "stdout",
     "output_type": "stream",
     "text": [
      "The current balance of the cryptocurrency wallet is: $43077.36\n"
     ]
    }
   ],
   "source": [
    "# Compute the total value of the cryptocurrency wallet\n",
    "# Add the value of the BTC holding to the value of the ETH holding\n",
    "total_crypto_wallet = btc_value + eth_value\n",
    "\n",
    "# Print current cryptocurrency wallet balance\n",
    "print(f'The current balance of the cryptocurrency wallet is: ${total_crypto_wallet:.2f}')"
   ]
  },
  {
   "cell_type": "markdown",
   "metadata": {},
   "source": [
    "### Evaluate the Stock and Bond Holdings by Using the Alpaca SDK\n",
    "\n",
    "This section determines the current value of a member’s stock and bond holdings. An API call to Alpaca via the Alpaca SDK is used to get the current closing prices of the SPDR S&P 500 ETF Trust (ticker: SPY) and of the iShares Core US Aggregate Bond ETF (ticker: AGG). For the prototype, we assume that the member holds 110 shares of SPY, which represents the stock portion of their portfolio, and 200 shares of AGG, which represents the bond portion. All this is done by completing the following steps:\n",
    "\n",
    "1. In the `Starter_Code` folder, create an environment file (`.env`) to store the values of your Alpaca API key and Alpaca secret key.\n",
    "\n",
    "2. Set the variables for the Alpaca API and secret keys. Using the Alpaca SDK, create the Alpaca `tradeapi.REST` object. In this object, include the parameters for the Alpaca API key, the secret key, and the version number.\n",
    "\n",
    "3. Set the following parameters for the Alpaca API call:\n",
    "\n",
    "    - `tickers`: Use the tickers for the member’s stock and bond holdings.\n",
    "\n",
    "    - `timeframe`: Use a time frame of one day.\n",
    "\n",
    "    - `start_date` and `end_date`: Use the same date for these parameters, and format them with the date of the previous weekday (or `2020-08-07`). This is because we want the one closing price for the most-recent trading day.\n",
    "\n",
    "4. Get the current closing prices for `SPY` and `AGG` by using the Alpaca `get_bars` function. Format the response as a Pandas DataFrame by including the `df` property at the end of the `get_bars` function.\n",
    "\n",
    "5. Navigating the Alpaca response DataFrame, select the `SPY` and `AGG` closing prices, and store them as variables.\n",
    "\n",
    "6. Calculate the value, in US dollars, of the current amount of shares in each of the stock and bond portions of the portfolio, and print the results.\n"
   ]
  },
  {
   "cell_type": "markdown",
   "metadata": {},
   "source": [
    "#### Review the total number of shares held in both (SPY) and (AGG)."
   ]
  },
  {
   "cell_type": "code",
   "execution_count": 13,
   "metadata": {},
   "outputs": [],
   "source": [
    "# Current amount of shares held in both the stock (SPY) and bond (AGG) portion of the portfolio.\n",
    "spy_shares = 110\n",
    "agg_shares = 200\n"
   ]
  },
  {
   "cell_type": "markdown",
   "metadata": {},
   "source": [
    "#### Step 1: In the project folder, create an environment file (`.env`) to store the values of personal Alpaca API key and Alpaca secret key."
   ]
  },
  {
   "cell_type": "markdown",
   "metadata": {},
   "source": [
    "#### Step 2: Set the variables for the Alpaca API and secret keys. Using the Alpaca SDK, create the Alpaca `tradeapi.REST` object. This object includes the parameters for the Alpaca API key, the secret key, and the version number."
   ]
  },
  {
   "cell_type": "code",
   "execution_count": 14,
   "metadata": {},
   "outputs": [],
   "source": [
    "# Set the variables for the Alpaca API and secret keys\n",
    "alpaca_api_key = os.getenv(\"ALPACA_API_KEY\")\n",
    "alpaca_secret_key = os.getenv(\"ALPACA_SECRET_KEY\")\n",
    "\n",
    "# Create the Alpaca tradeapi.REST object\n",
    "alpaca = tradeapi.REST(\n",
    "    alpaca_api_key,\n",
    "    alpaca_secret_key,\n",
    "    api_version=\"v2\")"
   ]
  },
  {
   "cell_type": "markdown",
   "metadata": {},
   "source": [
    "#### Step 3: Set the following parameters for the Alpaca API call:\n",
    "\n",
    "- `tickers`: Use the tickers for the member’s stock and bond holdings.\n",
    "\n",
    "- `timeframe`: Use a time frame of one day.\n",
    "\n",
    "- `start_date` and `end_date`: Use the same date for these parameters, and format them with the date of the previous weekday (or `2020-08-07`). This is because we want the one closing price for the most-recent trading day.\n"
   ]
  },
  {
   "cell_type": "code",
   "execution_count": 15,
   "metadata": {},
   "outputs": [],
   "source": [
    "# Set the tickers for both the bond and stock portion of the portfolio\n",
    "tickers = ['SPY', 'AGG']\n",
    "\n",
    "# Set timeframe to 1Day\n",
    "timeframe = '1Day'\n",
    "\n",
    "# Format current date as ISO format\n",
    "today = pd.Timestamp(\"2020-07-20\", tz=\"America/New_York\").isoformat()\n",
    "\n",
    "# Set both the start and end date at the date of your prior weekday \n",
    "# This will give you the closing price of the previous trading day\n",
    "start = pd.Timestamp(\"2022-07-19\", tz=\"America/New_York\").isoformat()\n",
    "\n",
    "end = pd.Timestamp(\"2022-07-19\", tz=\"America/New_York\").isoformat()"
   ]
  },
  {
   "cell_type": "markdown",
   "metadata": {},
   "source": [
    "#### Step 4: Get the current closing prices for `SPY` and `AGG` by using the Alpaca `get_bars` function. Format the response as a Pandas DataFrame by including the `df` property at the end of the `get_bars` function."
   ]
  },
  {
   "cell_type": "code",
   "execution_count": 16,
   "metadata": {},
   "outputs": [
    {
     "data": {
      "text/html": [
       "<div>\n",
       "<style scoped>\n",
       "    .dataframe tbody tr th:only-of-type {\n",
       "        vertical-align: middle;\n",
       "    }\n",
       "\n",
       "    .dataframe tbody tr th {\n",
       "        vertical-align: top;\n",
       "    }\n",
       "\n",
       "    .dataframe thead tr th {\n",
       "        text-align: left;\n",
       "    }\n",
       "</style>\n",
       "<table border=\"1\" class=\"dataframe\">\n",
       "  <thead>\n",
       "    <tr>\n",
       "      <th></th>\n",
       "      <th colspan=\"7\" halign=\"left\">SPY</th>\n",
       "      <th colspan=\"7\" halign=\"left\">AGG</th>\n",
       "    </tr>\n",
       "    <tr>\n",
       "      <th></th>\n",
       "      <th>open</th>\n",
       "      <th>high</th>\n",
       "      <th>low</th>\n",
       "      <th>close</th>\n",
       "      <th>volume</th>\n",
       "      <th>trade_count</th>\n",
       "      <th>vwap</th>\n",
       "      <th>open</th>\n",
       "      <th>high</th>\n",
       "      <th>low</th>\n",
       "      <th>close</th>\n",
       "      <th>volume</th>\n",
       "      <th>trade_count</th>\n",
       "      <th>vwap</th>\n",
       "    </tr>\n",
       "  </thead>\n",
       "  <tbody>\n",
       "    <tr>\n",
       "      <th>2022-07-19</th>\n",
       "      <td>386.08</td>\n",
       "      <td>392.87</td>\n",
       "      <td>385.4</td>\n",
       "      <td>392.27</td>\n",
       "      <td>78159593</td>\n",
       "      <td>533269</td>\n",
       "      <td>389.362454</td>\n",
       "      <td>101.95</td>\n",
       "      <td>101.99</td>\n",
       "      <td>101.6615</td>\n",
       "      <td>101.78</td>\n",
       "      <td>4240241</td>\n",
       "      <td>18208</td>\n",
       "      <td>101.821971</td>\n",
       "    </tr>\n",
       "  </tbody>\n",
       "</table>\n",
       "</div>"
      ],
      "text/plain": [
       "               SPY                                                           \\\n",
       "              open    high    low   close    volume trade_count        vwap   \n",
       "2022-07-19  386.08  392.87  385.4  392.27  78159593      533269  389.362454   \n",
       "\n",
       "               AGG                                                             \n",
       "              open    high       low   close   volume trade_count        vwap  \n",
       "2022-07-19  101.95  101.99  101.6615  101.78  4240241       18208  101.821971  "
      ]
     },
     "execution_count": 16,
     "metadata": {},
     "output_type": "execute_result"
    }
   ],
   "source": [
    "# Use the Alpaca get_bars function to get current closing prices the portfolio\n",
    "# Set the `df` property after the function to format the response object as a DataFrame\n",
    "df_portfolio_closing = alpaca.get_bars(\n",
    "    tickers,\n",
    "    timeframe,\n",
    "    start = start,\n",
    "    end = end\n",
    ").df\n",
    "\n",
    "# Reorganize the DataFrame\n",
    "# Separate ticker data\n",
    "spy_day = df_portfolio_closing[df_portfolio_closing['symbol']=='SPY'].drop('symbol', axis=1)\n",
    "agg_day = df_portfolio_closing[df_portfolio_closing['symbol']=='AGG'].drop('symbol', axis=1)\n",
    "\n",
    "# Concatenate the ticker DataFrames\n",
    "df_portfolio_closing = pd.concat([spy_day, agg_day],axis=1, keys=['SPY','AGG'])\n",
    "\n",
    "# Drop the time component of the date\n",
    "df_portfolio_closing.index = df_portfolio_closing.index.date\n",
    "\n",
    "# Review the DataFrame\n",
    "df_portfolio_closing"
   ]
  },
  {
   "cell_type": "markdown",
   "metadata": {},
   "source": [
    "#### Step 5: Navigating the Alpaca response DataFrame, select the `SPY` and `AGG` closing prices, and store them as variables."
   ]
  },
  {
   "cell_type": "code",
   "execution_count": 17,
   "metadata": {
    "tags": []
   },
   "outputs": [
    {
     "name": "stdout",
     "output_type": "stream",
     "text": [
      "Closing price of AGG was: $101.78\n"
     ]
    }
   ],
   "source": [
    "# Access the closing price for AGG from the Alpaca DataFrame\n",
    "# Converting the value to a floating point number\n",
    "agg_close_price = float(df_portfolio_closing[\"AGG\"][\"close\"])\n",
    "\n",
    "# Print the AGG closing price\n",
    "print(f'Closing price of AGG was: ${agg_close_price:.2f}')"
   ]
  },
  {
   "cell_type": "code",
   "execution_count": 18,
   "metadata": {},
   "outputs": [
    {
     "name": "stdout",
     "output_type": "stream",
     "text": [
      "Closing price of SPY was: $392.27\n"
     ]
    }
   ],
   "source": [
    "# Access the closing price for SPY from the Alpaca DataFrame\n",
    "# Converting the value to a floating point number\n",
    "spy_close_price = float(df_portfolio_closing[\"SPY\"][\"close\"])\n",
    "\n",
    "# Print the SPY closing price\n",
    "print(f'Closing price of SPY was: ${spy_close_price:.2f}')"
   ]
  },
  {
   "cell_type": "markdown",
   "metadata": {},
   "source": [
    "#### Step 6: Calculate the value, in US dollars, of the current amount of shares in each of the stock and bond portions of the portfolio, and print the results."
   ]
  },
  {
   "cell_type": "code",
   "execution_count": 19,
   "metadata": {},
   "outputs": [
    {
     "name": "stdout",
     "output_type": "stream",
     "text": [
      "Current value of the bond portfolio is: $20356.00\n"
     ]
    }
   ],
   "source": [
    "# Calculate the current value of the bond portion of the portfolio\n",
    "agg_value = agg_close_price * agg_shares\n",
    "\n",
    "# Print the current value of the bond portfolio\n",
    "print(f'Current value of the bond portfolio is: ${agg_value:.2f}')"
   ]
  },
  {
   "cell_type": "code",
   "execution_count": 20,
   "metadata": {},
   "outputs": [
    {
     "name": "stdout",
     "output_type": "stream",
     "text": [
      "Current value of the stock portfolio is: $43149.70\n"
     ]
    }
   ],
   "source": [
    "# Calculate the current value of the stock portion of the portfolio\n",
    "spy_value = spy_close_price * spy_shares\n",
    "\n",
    "# Print the current value of the stock portfolio\n",
    "print(f'Current value of the stock portfolio is: ${spy_value:.2f}')"
   ]
  },
  {
   "cell_type": "code",
   "execution_count": 21,
   "metadata": {},
   "outputs": [],
   "source": [
    "# Calculate the total value of the stock and bond portion of the portfolio\n",
    "total_stocks_bonds = agg_value + spy_value\n"
   ]
  },
  {
   "cell_type": "code",
   "execution_count": 22,
   "metadata": {},
   "outputs": [
    {
     "name": "stdout",
     "output_type": "stream",
     "text": [
      "Current balance of the stock and bond portion of the portfolio is: $63505.70\n",
      "Current balance of the cryptocurrency wallet is: $43077.36\n",
      "Current balance of the member's entire savings portfolio is: $106583.06\n"
     ]
    }
   ],
   "source": [
    "# Calculate the total value of the member's entire savings portfolio\n",
    "total_portfolio = total_stocks_bonds + total_crypto_wallet\n",
    "\n",
    "# Print the current balance of the stock and bond portion of the portfolio\n",
    "print(f'Current balance of the stock and bond portion of the portfolio is: ${total_stocks_bonds:.2f}')\n",
    "\n",
    "# Print current cryptocurrency wallet balance\n",
    "print(f'Current balance of the cryptocurrency wallet is: ${total_crypto_wallet:.2f}')\n",
    "\n",
    "# Print the total value of the member's entire savings portfolio\n",
    "print(f\"Current balance of the member's entire savings portfolio is: ${total_portfolio:.2f}\")\n",
    "\n"
   ]
  },
  {
   "cell_type": "markdown",
   "metadata": {},
   "source": [
    "### Evaluate the Emergency Fund\n",
    "\n",
    "This section uses the valuations for the cryptocurrency wallet and for the stock and bond portions of the portfolio to determine if the credit union member has enough savings to build an emergency fund into their financial plan. This is done by completing the following steps:\n",
    "\n",
    "1. Create a Python list named `savings_data` that has two elements. The first element contains the total value of the cryptocurrency wallet. The second element contains the total value of the stock and bond portions of the portfolio.\n",
    "\n",
    "2. Use the `savings_data` list to create a Pandas DataFrame named `savings_df`, and then display this DataFrame. The function to create the DataFrame should take the following three parameters:\n",
    "\n",
    "    - `savings_data`: Use the list that was just created.\n",
    "\n",
    "    - `columns`: Set this parameter equal to a Python list with a single value called `amount`.\n",
    "\n",
    "    - `index`: Set this parameter equal to a Python list with the values of `crypto` and `stock/bond`.\n",
    "\n",
    "3. Use the `savings_df` DataFrame to plot a pie chart that visualizes the composition of the member’s portfolio. The y-axis of the pie chart uses `amount`. \n",
    "\n",
    "4. Determine if the current portfolio has enough to create an emergency fund as part of the member’s financial plan. Ideally, an emergency fund should equal to three times the member’s monthly income. This is done by implementing the following steps:\n",
    "\n",
    "    1. Create a variable named `emergency_fund_value`, and set it equal to three times the value of the member’s `monthly_income` of $12000. (Set earlier in Part 1).\n",
    "\n",
    "    2. Create a series of three if statements to determine if the member’s total portfolio is large enough to fund the emergency portfolio:\n",
    "\n",
    "        1. If the total portfolio value is greater than the emergency fund value, display a message congratulating the member for having enough money in this fund.\n",
    "\n",
    "        2. Else if the total portfolio value is equal to the emergency fund value, display a message congratulating the member on reaching this important financial goal.\n",
    "\n",
    "        3. Else the total portfolio is less than the emergency fund value, so display a message showing how many dollars away the member is from reaching the goal. \n"
   ]
  },
  {
   "cell_type": "markdown",
   "metadata": {},
   "source": [
    "#### Step 1: Create a Python list named `savings_data` that has two elements. The first element contains the total value of the cryptocurrency wallet. The second element contains the total value of the stock and bond portions of the portfolio."
   ]
  },
  {
   "cell_type": "code",
   "execution_count": 23,
   "metadata": {},
   "outputs": [
    {
     "data": {
      "text/plain": [
       "[43077.36, 63505.7]"
      ]
     },
     "execution_count": 23,
     "metadata": {},
     "output_type": "execute_result"
    }
   ],
   "source": [
    "# Consolidate financial assets data into a Python list\n",
    "savings_data = [total_crypto_wallet, total_stocks_bonds]\n",
    "\n",
    "# Review the Python list savings_data\n",
    "savings_data"
   ]
  },
  {
   "cell_type": "markdown",
   "metadata": {},
   "source": [
    "#### Step 2: Use the `savings_data` list to create a Pandas DataFrame named `savings_df`, and then display this DataFrame. The function to create the DataFrame should take the following three parameters:\n",
    "\n",
    "- `savings_data`: Use the list that was just created.\n",
    "\n",
    "- `columns`: Set this parameter equal to a Python list with a single value called `amount`.\n",
    "\n",
    "- `index`: Set this parameter equal to a Python list with the values of `crypto` and `stock/bond`.\n"
   ]
  },
  {
   "cell_type": "code",
   "execution_count": 24,
   "metadata": {},
   "outputs": [
    {
     "data": {
      "text/html": [
       "<div>\n",
       "<style scoped>\n",
       "    .dataframe tbody tr th:only-of-type {\n",
       "        vertical-align: middle;\n",
       "    }\n",
       "\n",
       "    .dataframe tbody tr th {\n",
       "        vertical-align: top;\n",
       "    }\n",
       "\n",
       "    .dataframe thead th {\n",
       "        text-align: right;\n",
       "    }\n",
       "</style>\n",
       "<table border=\"1\" class=\"dataframe\">\n",
       "  <thead>\n",
       "    <tr style=\"text-align: right;\">\n",
       "      <th></th>\n",
       "      <th>Amount</th>\n",
       "    </tr>\n",
       "  </thead>\n",
       "  <tbody>\n",
       "    <tr>\n",
       "      <th>Crypto</th>\n",
       "      <td>43077.36</td>\n",
       "    </tr>\n",
       "    <tr>\n",
       "      <th>Stock/Bond</th>\n",
       "      <td>63505.70</td>\n",
       "    </tr>\n",
       "  </tbody>\n",
       "</table>\n",
       "</div>"
      ],
      "text/plain": [
       "              Amount\n",
       "Crypto      43077.36\n",
       "Stock/Bond  63505.70"
      ]
     },
     "execution_count": 24,
     "metadata": {},
     "output_type": "execute_result"
    }
   ],
   "source": [
    "# Create colum and index variable\n",
    "column = ['Amount']\n",
    "index = ['Crypto', 'Stock/Bond']\n",
    "\n",
    "# Create a Pandas DataFrame called savings_df \n",
    "savings_df = pd.DataFrame(data=savings_data, columns=column, index=index)\n",
    "\n",
    "# Display the savings_df DataFrame\n",
    "savings_df"
   ]
  },
  {
   "cell_type": "markdown",
   "metadata": {},
   "source": [
    "#### Step 3: Use the `savings_df` DataFrame to plot a pie chart that visualizes the composition of the member’s portfolio. The y-axis of the pie chart uses `amount`. "
   ]
  },
  {
   "cell_type": "code",
   "execution_count": 25,
   "metadata": {},
   "outputs": [
    {
     "data": {
      "text/plain": [
       "<AxesSubplot:title={'center':'Total Portfolio Value'}, ylabel='Amount'>"
      ]
     },
     "execution_count": 25,
     "metadata": {},
     "output_type": "execute_result"
    },
    {
     "data": {
      "image/png": "[encoded data removed]",
      "text/plain": [
       "<Figure size 640x480 with 1 Axes>"
      ]
     },
     "metadata": {},
     "output_type": "display_data"
    }
   ],
   "source": [
    "# Plot the total value of the member's portfolio (crypto and stock/bond) in a pie chart\n",
    "savings_df.plot.pie(y='Amount', title='Total Portfolio Value')"
   ]
  },
  {
   "cell_type": "markdown",
   "metadata": {},
   "source": [
    "#### Step 4: Determine if the current portfolio has enough to create an emergency fund as part of the member’s financial plan. Ideally, an emergency fund should equal to three times the member’s monthly income. This is done by implementing the following steps:\n",
    "\n",
    "Step 1. Create a variable named `emergency_fund_value`, and set it equal to three times the value of the member’s `monthly_income` of 12000. (Set earlier in Part 1).\n",
    "\n",
    "Step 2. Create a series of three if statements to determine if the member’s total portfolio is large enough to fund the emergency portfolio:\n",
    "\n",
    "* If the total portfolio value is greater than the emergency fund value, display a message congratulating the member for having enough money in this fund.\n",
    "\n",
    "* Else if the total portfolio value is equal to the emergency fund value, display a message congratulating the member on reaching this important financial goal.\n",
    "\n",
    "* Else the total portfolio is less than the emergency fund value, so display a message showing how many dollars away the member is from reaching the goal. \n"
   ]
  },
  {
   "cell_type": "markdown",
   "metadata": {},
   "source": [
    "##### Step 4-1: Create a variable named `emergency_fund_value`, and set it equal to three times the value of the member’s `monthly_income` of 12000."
   ]
  },
  {
   "cell_type": "code",
   "execution_count": 26,
   "metadata": {},
   "outputs": [],
   "source": [
    "# Create a variable named emergency_fund_value\n",
    "emergency_fund_value = monthly_income * 3\n"
   ]
  },
  {
   "cell_type": "markdown",
   "metadata": {},
   "source": [
    "##### Step 4-2: Create a series of three if statements to determine if the member’s total portfolio is large enough to fund the emergency portfolio:\n",
    "\n",
    "* If the total portfolio value is greater than the emergency fund value, display a message congratulating the member for having enough money in this fund.\n",
    "\n",
    "* Else if the total portfolio value is equal to the emergency fund value, display a message congratulating the member on reaching this important financial goal.\n",
    "\n",
    "* Else the total portfolio is less than the emergency fund value, so display a message showing how many dollars away the member is from reaching the goal. "
   ]
  },
  {
   "cell_type": "code",
   "execution_count": 27,
   "metadata": {},
   "outputs": [
    {
     "name": "stdout",
     "output_type": "stream",
     "text": [
      "Congratulations! You have enough money in this fund\n"
     ]
    }
   ],
   "source": [
    "# Evaluate the possibility of creating an emergency fund with 3 conditions:\n",
    "if total_portfolio > emergency_fund_value:\n",
    "    print('Congratulations! You have enough money in this fund')\n",
    "elif total_portfolio == emergency_fund_value:\n",
    "    print(\"Congratulations on reaching this important financial goal! This portfolio is equal to the emergency fund value!\")  \n",
    "elif total_portfolio < emergency_fund_value:\n",
    "    print(f\"This portfolio is ${emergency_fund_value - total_portfolio} away from reaching the emergency fund value goal\")\n",
    "\n"
   ]
  },
  {
   "cell_type": "markdown",
   "metadata": {},
   "source": [
    "## Part 2: Create a Financial Planner for Retirement"
   ]
  },
  {
   "cell_type": "markdown",
   "metadata": {},
   "source": [
    "### Create the Monte Carlo Simulation\n",
    "\n",
    "This section uses the MCForecastTools library to create a Monte Carlo simulation for the member’s savings portfolio. This is done by completing the following steps:\n",
    "\n",
    "1. Make an API call via the Alpaca SDK to get 3 years of historical closing prices for a traditional 60/40 portfolio split: 60% stocks (SPY) and 40% bonds (AGG).\n",
    "\n",
    "2. Run a Monte Carlo simulation of 500 samples and 30 years for the 60/40 portfolio, and then plot the results. The following image shows the overlay line plot resulting from a simulation with these characteristics. However, because a random number generator is used to run each live Monte Carlo simulation, the image will differ slightly from this exact image:\n",
    "\n",
    "![A screenshot depicts the resulting plot.](Images/5-4-monte-carlo-line-plot.png)\n",
    "\n",
    "3. Plot the probability distribution of the Monte Carlo simulation. Plot the probability distribution of the Monte Carlo simulation. The following image shows the histogram plot resulting from a simulation with these characteristics. However, because a random number generator is used to run each live Monte Carlo simulation, the image will differ slightly from this exact image:\n",
    "\n",
    "![A screenshot depicts the histogram plot.](Images/5-4-monte-carlo-histogram.png)\n",
    "\n",
    "4. Generate the summary statistics for the Monte Carlo simulation.\n",
    "\n"
   ]
  },
  {
   "cell_type": "markdown",
   "metadata": {},
   "source": [
    "#### Step 1: Make an API call via the Alpaca SDK to get 3 years of historical closing prices for a traditional 60/40 portfolio split: 60% stocks (SPY) and 40% bonds (AGG)."
   ]
  },
  {
   "cell_type": "code",
   "execution_count": 28,
   "metadata": {},
   "outputs": [],
   "source": [
    "# Set start and end dates of 3 years back from your current date\n",
    "start = pd.Timestamp(\"2019-07-19\", tz=\"America/New_York\").isoformat()\n",
    "\n",
    "end = pd.Timestamp(\"2022-07-19\", tz=\"America/New_York\").isoformat()"
   ]
  },
  {
   "cell_type": "code",
   "execution_count": 29,
   "metadata": {},
   "outputs": [
    {
     "data": {
      "text/html": [
       "<div>\n",
       "<style scoped>\n",
       "    .dataframe tbody tr th:only-of-type {\n",
       "        vertical-align: middle;\n",
       "    }\n",
       "\n",
       "    .dataframe tbody tr th {\n",
       "        vertical-align: top;\n",
       "    }\n",
       "\n",
       "    .dataframe thead tr th {\n",
       "        text-align: left;\n",
       "    }\n",
       "</style>\n",
       "<table border=\"1\" class=\"dataframe\">\n",
       "  <thead>\n",
       "    <tr>\n",
       "      <th></th>\n",
       "      <th colspan=\"7\" halign=\"left\">SPY</th>\n",
       "      <th colspan=\"7\" halign=\"left\">AGG</th>\n",
       "    </tr>\n",
       "    <tr>\n",
       "      <th></th>\n",
       "      <th>open</th>\n",
       "      <th>high</th>\n",
       "      <th>low</th>\n",
       "      <th>close</th>\n",
       "      <th>volume</th>\n",
       "      <th>trade_count</th>\n",
       "      <th>vwap</th>\n",
       "      <th>open</th>\n",
       "      <th>high</th>\n",
       "      <th>low</th>\n",
       "      <th>close</th>\n",
       "      <th>volume</th>\n",
       "      <th>trade_count</th>\n",
       "      <th>vwap</th>\n",
       "    </tr>\n",
       "  </thead>\n",
       "  <tbody>\n",
       "    <tr>\n",
       "      <th>2019-07-19</th>\n",
       "      <td>300.04</td>\n",
       "      <td>300.0700</td>\n",
       "      <td>296.960</td>\n",
       "      <td>297.26</td>\n",
       "      <td>76794138</td>\n",
       "      <td>260715</td>\n",
       "      <td>298.617649</td>\n",
       "      <td>111.22</td>\n",
       "      <td>111.286</td>\n",
       "      <td>111.1400</td>\n",
       "      <td>111.17</td>\n",
       "      <td>3150774</td>\n",
       "      <td>9948</td>\n",
       "      <td>111.225017</td>\n",
       "    </tr>\n",
       "    <tr>\n",
       "      <th>2019-07-22</th>\n",
       "      <td>297.61</td>\n",
       "      <td>298.5000</td>\n",
       "      <td>297.040</td>\n",
       "      <td>297.81</td>\n",
       "      <td>45137404</td>\n",
       "      <td>186383</td>\n",
       "      <td>297.748117</td>\n",
       "      <td>111.41</td>\n",
       "      <td>111.410</td>\n",
       "      <td>111.3000</td>\n",
       "      <td>111.31</td>\n",
       "      <td>2855073</td>\n",
       "      <td>7937</td>\n",
       "      <td>111.344721</td>\n",
       "    </tr>\n",
       "    <tr>\n",
       "      <th>2019-07-23</th>\n",
       "      <td>299.15</td>\n",
       "      <td>300.0300</td>\n",
       "      <td>298.220</td>\n",
       "      <td>299.98</td>\n",
       "      <td>44935473</td>\n",
       "      <td>208847</td>\n",
       "      <td>299.177015</td>\n",
       "      <td>111.27</td>\n",
       "      <td>111.320</td>\n",
       "      <td>111.1600</td>\n",
       "      <td>111.20</td>\n",
       "      <td>2659305</td>\n",
       "      <td>10894</td>\n",
       "      <td>111.219201</td>\n",
       "    </tr>\n",
       "    <tr>\n",
       "      <th>2019-07-24</th>\n",
       "      <td>299.19</td>\n",
       "      <td>301.4400</td>\n",
       "      <td>299.090</td>\n",
       "      <td>301.40</td>\n",
       "      <td>47738870</td>\n",
       "      <td>204882</td>\n",
       "      <td>300.570907</td>\n",
       "      <td>111.33</td>\n",
       "      <td>111.410</td>\n",
       "      <td>111.2950</td>\n",
       "      <td>111.36</td>\n",
       "      <td>2783461</td>\n",
       "      <td>12750</td>\n",
       "      <td>111.337833</td>\n",
       "    </tr>\n",
       "    <tr>\n",
       "      <th>2019-07-25</th>\n",
       "      <td>300.94</td>\n",
       "      <td>301.0000</td>\n",
       "      <td>299.110</td>\n",
       "      <td>299.97</td>\n",
       "      <td>55864213</td>\n",
       "      <td>266901</td>\n",
       "      <td>300.079179</td>\n",
       "      <td>111.33</td>\n",
       "      <td>111.330</td>\n",
       "      <td>111.0474</td>\n",
       "      <td>111.19</td>\n",
       "      <td>2977486</td>\n",
       "      <td>11325</td>\n",
       "      <td>111.190464</td>\n",
       "    </tr>\n",
       "    <tr>\n",
       "      <th>...</th>\n",
       "      <td>...</td>\n",
       "      <td>...</td>\n",
       "      <td>...</td>\n",
       "      <td>...</td>\n",
       "      <td>...</td>\n",
       "      <td>...</td>\n",
       "      <td>...</td>\n",
       "      <td>...</td>\n",
       "      <td>...</td>\n",
       "      <td>...</td>\n",
       "      <td>...</td>\n",
       "      <td>...</td>\n",
       "      <td>...</td>\n",
       "      <td>...</td>\n",
       "    </tr>\n",
       "    <tr>\n",
       "      <th>2022-07-13</th>\n",
       "      <td>375.10</td>\n",
       "      <td>381.9200</td>\n",
       "      <td>374.658</td>\n",
       "      <td>378.83</td>\n",
       "      <td>83568542</td>\n",
       "      <td>671951</td>\n",
       "      <td>378.823334</td>\n",
       "      <td>101.23</td>\n",
       "      <td>102.240</td>\n",
       "      <td>101.1900</td>\n",
       "      <td>102.21</td>\n",
       "      <td>6514168</td>\n",
       "      <td>26715</td>\n",
       "      <td>101.977476</td>\n",
       "    </tr>\n",
       "    <tr>\n",
       "      <th>2022-07-14</th>\n",
       "      <td>373.61</td>\n",
       "      <td>379.0498</td>\n",
       "      <td>371.040</td>\n",
       "      <td>377.91</td>\n",
       "      <td>89124659</td>\n",
       "      <td>637413</td>\n",
       "      <td>375.583757</td>\n",
       "      <td>101.51</td>\n",
       "      <td>101.980</td>\n",
       "      <td>101.3300</td>\n",
       "      <td>101.85</td>\n",
       "      <td>6224496</td>\n",
       "      <td>24722</td>\n",
       "      <td>101.747120</td>\n",
       "    </tr>\n",
       "    <tr>\n",
       "      <th>2022-07-15</th>\n",
       "      <td>382.55</td>\n",
       "      <td>385.2500</td>\n",
       "      <td>380.540</td>\n",
       "      <td>385.13</td>\n",
       "      <td>78742871</td>\n",
       "      <td>488111</td>\n",
       "      <td>383.323926</td>\n",
       "      <td>101.94</td>\n",
       "      <td>102.350</td>\n",
       "      <td>101.9000</td>\n",
       "      <td>102.25</td>\n",
       "      <td>8440151</td>\n",
       "      <td>27300</td>\n",
       "      <td>102.214854</td>\n",
       "    </tr>\n",
       "    <tr>\n",
       "      <th>2022-07-18</th>\n",
       "      <td>388.38</td>\n",
       "      <td>389.0900</td>\n",
       "      <td>380.660</td>\n",
       "      <td>381.95</td>\n",
       "      <td>62864897</td>\n",
       "      <td>489551</td>\n",
       "      <td>385.089006</td>\n",
       "      <td>102.00</td>\n",
       "      <td>102.030</td>\n",
       "      <td>101.7200</td>\n",
       "      <td>101.92</td>\n",
       "      <td>4948342</td>\n",
       "      <td>18801</td>\n",
       "      <td>101.892819</td>\n",
       "    </tr>\n",
       "    <tr>\n",
       "      <th>2022-07-19</th>\n",
       "      <td>386.08</td>\n",
       "      <td>392.8700</td>\n",
       "      <td>385.400</td>\n",
       "      <td>392.27</td>\n",
       "      <td>78159593</td>\n",
       "      <td>533269</td>\n",
       "      <td>389.362454</td>\n",
       "      <td>101.95</td>\n",
       "      <td>101.990</td>\n",
       "      <td>101.6615</td>\n",
       "      <td>101.78</td>\n",
       "      <td>4240241</td>\n",
       "      <td>18208</td>\n",
       "      <td>101.821971</td>\n",
       "    </tr>\n",
       "  </tbody>\n",
       "</table>\n",
       "<p>756 rows × 14 columns</p>\n",
       "</div>"
      ],
      "text/plain": [
       "               SPY                                                   \\\n",
       "              open      high      low   close    volume trade_count   \n",
       "2019-07-19  300.04  300.0700  296.960  297.26  76794138      260715   \n",
       "2019-07-22  297.61  298.5000  297.040  297.81  45137404      186383   \n",
       "2019-07-23  299.15  300.0300  298.220  299.98  44935473      208847   \n",
       "2019-07-24  299.19  301.4400  299.090  301.40  47738870      204882   \n",
       "2019-07-25  300.94  301.0000  299.110  299.97  55864213      266901   \n",
       "...            ...       ...      ...     ...       ...         ...   \n",
       "2022-07-13  375.10  381.9200  374.658  378.83  83568542      671951   \n",
       "2022-07-14  373.61  379.0498  371.040  377.91  89124659      637413   \n",
       "2022-07-15  382.55  385.2500  380.540  385.13  78742871      488111   \n",
       "2022-07-18  388.38  389.0900  380.660  381.95  62864897      489551   \n",
       "2022-07-19  386.08  392.8700  385.400  392.27  78159593      533269   \n",
       "\n",
       "                           AGG                                      \\\n",
       "                  vwap    open     high       low   close   volume   \n",
       "2019-07-19  298.617649  111.22  111.286  111.1400  111.17  3150774   \n",
       "2019-07-22  297.748117  111.41  111.410  111.3000  111.31  2855073   \n",
       "2019-07-23  299.177015  111.27  111.320  111.1600  111.20  2659305   \n",
       "2019-07-24  300.570907  111.33  111.410  111.2950  111.36  2783461   \n",
       "2019-07-25  300.079179  111.33  111.330  111.0474  111.19  2977486   \n",
       "...                ...     ...      ...       ...     ...      ...   \n",
       "2022-07-13  378.823334  101.23  102.240  101.1900  102.21  6514168   \n",
       "2022-07-14  375.583757  101.51  101.980  101.3300  101.85  6224496   \n",
       "2022-07-15  383.323926  101.94  102.350  101.9000  102.25  8440151   \n",
       "2022-07-18  385.089006  102.00  102.030  101.7200  101.92  4948342   \n",
       "2022-07-19  389.362454  101.95  101.990  101.6615  101.78  4240241   \n",
       "\n",
       "                                    \n",
       "           trade_count        vwap  \n",
       "2019-07-19        9948  111.225017  \n",
       "2019-07-22        7937  111.344721  \n",
       "2019-07-23       10894  111.219201  \n",
       "2019-07-24       12750  111.337833  \n",
       "2019-07-25       11325  111.190464  \n",
       "...                ...         ...  \n",
       "2022-07-13       26715  101.977476  \n",
       "2022-07-14       24722  101.747120  \n",
       "2022-07-15       27300  102.214854  \n",
       "2022-07-18       18801  101.892819  \n",
       "2022-07-19       18208  101.821971  \n",
       "\n",
       "[756 rows x 14 columns]"
      ]
     },
     "execution_count": 29,
     "metadata": {},
     "output_type": "execute_result"
    }
   ],
   "source": [
    "# Use the Alpaca get_bars function to make the API call to get the 3 years worth of pricing data\n",
    "# The tickers and timeframe parameters should have been set in Part 1  \n",
    "# The start and end dates should be updated with the information set above\n",
    "# Add the df property to the end of the call so the response is returned as a DataFrame\n",
    "historical_closing_df = alpaca.get_bars(\n",
    "    tickers,\n",
    "    timeframe,\n",
    "    start = start,\n",
    "    end = end\n",
    ").df\n",
    "\n",
    "# Reorganize the DataFrame\n",
    "# Separate ticker data\n",
    "spy_year = historical_closing_df[historical_closing_df['symbol']=='SPY'].drop('symbol', axis=1)\n",
    "agg_year = historical_closing_df[historical_closing_df['symbol']=='AGG'].drop('symbol', axis=1)\n",
    "\n",
    "# Concatenate the ticker DataFrames\n",
    "historical_closing_df = pd.concat([spy_year, agg_year],axis=1, keys=['SPY','AGG'])\n",
    "\n",
    "# Drop the time component of the date\n",
    "historical_closing_df.index = historical_closing_df.index.date\n",
    "\n",
    "# Display both the first and last five rows of the DataFrame\n",
    "historical_closing_df\n"
   ]
  },
  {
   "cell_type": "markdown",
   "metadata": {},
   "source": [
    "#### Step 2: Run a Monte Carlo simulation of 500 samples and 30 years for the 60/40 portfolio, and then plot the results."
   ]
  },
  {
   "cell_type": "code",
   "execution_count": 30,
   "metadata": {},
   "outputs": [
    {
     "data": {
      "text/html": [
       "<div>\n",
       "<style scoped>\n",
       "    .dataframe tbody tr th:only-of-type {\n",
       "        vertical-align: middle;\n",
       "    }\n",
       "\n",
       "    .dataframe tbody tr th {\n",
       "        vertical-align: top;\n",
       "    }\n",
       "\n",
       "    .dataframe thead tr th {\n",
       "        text-align: left;\n",
       "    }\n",
       "</style>\n",
       "<table border=\"1\" class=\"dataframe\">\n",
       "  <thead>\n",
       "    <tr>\n",
       "      <th></th>\n",
       "      <th colspan=\"8\" halign=\"left\">SPY</th>\n",
       "      <th colspan=\"8\" halign=\"left\">AGG</th>\n",
       "    </tr>\n",
       "    <tr>\n",
       "      <th></th>\n",
       "      <th>open</th>\n",
       "      <th>high</th>\n",
       "      <th>low</th>\n",
       "      <th>close</th>\n",
       "      <th>volume</th>\n",
       "      <th>trade_count</th>\n",
       "      <th>vwap</th>\n",
       "      <th>daily_return</th>\n",
       "      <th>open</th>\n",
       "      <th>high</th>\n",
       "      <th>low</th>\n",
       "      <th>close</th>\n",
       "      <th>volume</th>\n",
       "      <th>trade_count</th>\n",
       "      <th>vwap</th>\n",
       "      <th>daily_return</th>\n",
       "    </tr>\n",
       "  </thead>\n",
       "  <tbody>\n",
       "    <tr>\n",
       "      <th>2019-07-19</th>\n",
       "      <td>300.04</td>\n",
       "      <td>300.07</td>\n",
       "      <td>296.96</td>\n",
       "      <td>297.26</td>\n",
       "      <td>76794138</td>\n",
       "      <td>260715</td>\n",
       "      <td>298.617649</td>\n",
       "      <td>NaN</td>\n",
       "      <td>111.22</td>\n",
       "      <td>111.286</td>\n",
       "      <td>111.1400</td>\n",
       "      <td>111.17</td>\n",
       "      <td>3150774</td>\n",
       "      <td>9948</td>\n",
       "      <td>111.225017</td>\n",
       "      <td>NaN</td>\n",
       "    </tr>\n",
       "    <tr>\n",
       "      <th>2019-07-22</th>\n",
       "      <td>297.61</td>\n",
       "      <td>298.50</td>\n",
       "      <td>297.04</td>\n",
       "      <td>297.81</td>\n",
       "      <td>45137404</td>\n",
       "      <td>186383</td>\n",
       "      <td>297.748117</td>\n",
       "      <td>0.001850</td>\n",
       "      <td>111.41</td>\n",
       "      <td>111.410</td>\n",
       "      <td>111.3000</td>\n",
       "      <td>111.31</td>\n",
       "      <td>2855073</td>\n",
       "      <td>7937</td>\n",
       "      <td>111.344721</td>\n",
       "      <td>0.001259</td>\n",
       "    </tr>\n",
       "    <tr>\n",
       "      <th>2019-07-23</th>\n",
       "      <td>299.15</td>\n",
       "      <td>300.03</td>\n",
       "      <td>298.22</td>\n",
       "      <td>299.98</td>\n",
       "      <td>44935473</td>\n",
       "      <td>208847</td>\n",
       "      <td>299.177015</td>\n",
       "      <td>0.007287</td>\n",
       "      <td>111.27</td>\n",
       "      <td>111.320</td>\n",
       "      <td>111.1600</td>\n",
       "      <td>111.20</td>\n",
       "      <td>2659305</td>\n",
       "      <td>10894</td>\n",
       "      <td>111.219201</td>\n",
       "      <td>-0.000988</td>\n",
       "    </tr>\n",
       "    <tr>\n",
       "      <th>2019-07-24</th>\n",
       "      <td>299.19</td>\n",
       "      <td>301.44</td>\n",
       "      <td>299.09</td>\n",
       "      <td>301.40</td>\n",
       "      <td>47738870</td>\n",
       "      <td>204882</td>\n",
       "      <td>300.570907</td>\n",
       "      <td>0.004734</td>\n",
       "      <td>111.33</td>\n",
       "      <td>111.410</td>\n",
       "      <td>111.2950</td>\n",
       "      <td>111.36</td>\n",
       "      <td>2783461</td>\n",
       "      <td>12750</td>\n",
       "      <td>111.337833</td>\n",
       "      <td>0.001439</td>\n",
       "    </tr>\n",
       "    <tr>\n",
       "      <th>2019-07-25</th>\n",
       "      <td>300.94</td>\n",
       "      <td>301.00</td>\n",
       "      <td>299.11</td>\n",
       "      <td>299.97</td>\n",
       "      <td>55864213</td>\n",
       "      <td>266901</td>\n",
       "      <td>300.079179</td>\n",
       "      <td>-0.004745</td>\n",
       "      <td>111.33</td>\n",
       "      <td>111.330</td>\n",
       "      <td>111.0474</td>\n",
       "      <td>111.19</td>\n",
       "      <td>2977486</td>\n",
       "      <td>11325</td>\n",
       "      <td>111.190464</td>\n",
       "      <td>-0.001527</td>\n",
       "    </tr>\n",
       "  </tbody>\n",
       "</table>\n",
       "</div>"
      ],
      "text/plain": [
       "               SPY                                                            \\\n",
       "              open    high     low   close    volume trade_count        vwap   \n",
       "2019-07-19  300.04  300.07  296.96  297.26  76794138      260715  298.617649   \n",
       "2019-07-22  297.61  298.50  297.04  297.81  45137404      186383  297.748117   \n",
       "2019-07-23  299.15  300.03  298.22  299.98  44935473      208847  299.177015   \n",
       "2019-07-24  299.19  301.44  299.09  301.40  47738870      204882  300.570907   \n",
       "2019-07-25  300.94  301.00  299.11  299.97  55864213      266901  300.079179   \n",
       "\n",
       "                            AGG                                      \\\n",
       "           daily_return    open     high       low   close   volume   \n",
       "2019-07-19          NaN  111.22  111.286  111.1400  111.17  3150774   \n",
       "2019-07-22     0.001850  111.41  111.410  111.3000  111.31  2855073   \n",
       "2019-07-23     0.007287  111.27  111.320  111.1600  111.20  2659305   \n",
       "2019-07-24     0.004734  111.33  111.410  111.2950  111.36  2783461   \n",
       "2019-07-25    -0.004745  111.33  111.330  111.0474  111.19  2977486   \n",
       "\n",
       "                                                 \n",
       "           trade_count        vwap daily_return  \n",
       "2019-07-19        9948  111.225017          NaN  \n",
       "2019-07-22        7937  111.344721     0.001259  \n",
       "2019-07-23       10894  111.219201    -0.000988  \n",
       "2019-07-24       12750  111.337833     0.001439  \n",
       "2019-07-25       11325  111.190464    -0.001527  "
      ]
     },
     "execution_count": 30,
     "metadata": {},
     "output_type": "execute_result"
    }
   ],
   "source": [
    "# Configure the Monte Carlo simulation to forecast 30 years cumulative returns\n",
    "# The weights should be split 40% to AGG and 60% to SPY.\n",
    "# Run 500 samples.\n",
    "# Create a simulation object\n",
    "thirty_year_simulation = MCSimulation(\n",
    "    portfolio_data=historical_closing_df,\n",
    "    weights=[0.6, 0.4],\n",
    "    num_simulation=500,\n",
    "    num_trading_days=252*30,\n",
    ")\n",
    "\n",
    "\n",
    "# Review the simulation input data\n",
    "thirty_year_simulation.portfolio_data.head()"
   ]
  },
  {
   "cell_type": "code",
   "execution_count": 31,
   "metadata": {},
   "outputs": [
    {
     "name": "stdout",
     "output_type": "stream",
     "text": [
      "Running Monte Carlo simulation number 0.\n",
      "Running Monte Carlo simulation number 10.\n",
      "Running Monte Carlo simulation number 20.\n",
      "Running Monte Carlo simulation number 30.\n",
      "Running Monte Carlo simulation number 40.\n",
      "Running Monte Carlo simulation number 50.\n",
      "Running Monte Carlo simulation number 60.\n",
      "Running Monte Carlo simulation number 70.\n",
      "Running Monte Carlo simulation number 80.\n",
      "Running Monte Carlo simulation number 90.\n",
      "Running Monte Carlo simulation number 100.\n"
     ]
    },
    {
     "name": "stderr",
     "output_type": "stream",
     "text": [
      "/Users/colefrederick/Desktop/Folders/Coding/Bootcamp/Challenge/Module_5_Challenge/Financial_Planner/MCForecastTools.py:117: PerformanceWarning: DataFrame is highly fragmented.  This is usually the result of calling `frame.insert` many times, which has poor performance.  Consider joining all columns at once using pd.concat(axis=1) instead.  To get a de-fragmented frame, use `newframe = frame.copy()`\n",
      "  portfolio_cumulative_returns[n] = (1 + sim_df.fillna(0)).cumprod()\n"
     ]
    },
    {
     "name": "stdout",
     "output_type": "stream",
     "text": [
      "Running Monte Carlo simulation number 110.\n",
      "Running Monte Carlo simulation number 120.\n",
      "Running Monte Carlo simulation number 130.\n",
      "Running Monte Carlo simulation number 140.\n",
      "Running Monte Carlo simulation number 150.\n",
      "Running Monte Carlo simulation number 160.\n",
      "Running Monte Carlo simulation number 170.\n",
      "Running Monte Carlo simulation number 180.\n",
      "Running Monte Carlo simulation number 190.\n",
      "Running Monte Carlo simulation number 200.\n",
      "Running Monte Carlo simulation number 210.\n",
      "Running Monte Carlo simulation number 220.\n",
      "Running Monte Carlo simulation number 230.\n",
      "Running Monte Carlo simulation number 240.\n",
      "Running Monte Carlo simulation number 250.\n",
      "Running Monte Carlo simulation number 260.\n",
      "Running Monte Carlo simulation number 270.\n",
      "Running Monte Carlo simulation number 280.\n",
      "Running Monte Carlo simulation number 290.\n",
      "Running Monte Carlo simulation number 300.\n",
      "Running Monte Carlo simulation number 310.\n",
      "Running Monte Carlo simulation number 320.\n",
      "Running Monte Carlo simulation number 330.\n",
      "Running Monte Carlo simulation number 340.\n",
      "Running Monte Carlo simulation number 350.\n",
      "Running Monte Carlo simulation number 360.\n",
      "Running Monte Carlo simulation number 370.\n",
      "Running Monte Carlo simulation number 380.\n",
      "Running Monte Carlo simulation number 390.\n",
      "Running Monte Carlo simulation number 400.\n",
      "Running Monte Carlo simulation number 410.\n",
      "Running Monte Carlo simulation number 420.\n",
      "Running Monte Carlo simulation number 430.\n",
      "Running Monte Carlo simulation number 440.\n",
      "Running Monte Carlo simulation number 450.\n",
      "Running Monte Carlo simulation number 460.\n",
      "Running Monte Carlo simulation number 470.\n",
      "Running Monte Carlo simulation number 480.\n",
      "Running Monte Carlo simulation number 490.\n"
     ]
    },
    {
     "data": {
      "text/html": [
       "<div>\n",
       "<style scoped>\n",
       "    .dataframe tbody tr th:only-of-type {\n",
       "        vertical-align: middle;\n",
       "    }\n",
       "\n",
       "    .dataframe tbody tr th {\n",
       "        vertical-align: top;\n",
       "    }\n",
       "\n",
       "    .dataframe thead th {\n",
       "        text-align: right;\n",
       "    }\n",
       "</style>\n",
       "<table border=\"1\" class=\"dataframe\">\n",
       "  <thead>\n",
       "    <tr style=\"text-align: right;\">\n",
       "      <th></th>\n",
       "      <th>0</th>\n",
       "      <th>1</th>\n",
       "      <th>2</th>\n",
       "      <th>3</th>\n",
       "      <th>4</th>\n",
       "      <th>5</th>\n",
       "      <th>6</th>\n",
       "      <th>7</th>\n",
       "      <th>8</th>\n",
       "      <th>9</th>\n",
       "      <th>...</th>\n",
       "      <th>490</th>\n",
       "      <th>491</th>\n",
       "      <th>492</th>\n",
       "      <th>493</th>\n",
       "      <th>494</th>\n",
       "      <th>495</th>\n",
       "      <th>496</th>\n",
       "      <th>497</th>\n",
       "      <th>498</th>\n",
       "      <th>499</th>\n",
       "    </tr>\n",
       "  </thead>\n",
       "  <tbody>\n",
       "    <tr>\n",
       "      <th>0</th>\n",
       "      <td>1.000000</td>\n",
       "      <td>1.000000</td>\n",
       "      <td>1.000000</td>\n",
       "      <td>1.000000</td>\n",
       "      <td>1.000000</td>\n",
       "      <td>1.000000</td>\n",
       "      <td>1.000000</td>\n",
       "      <td>1.000000</td>\n",
       "      <td>1.000000</td>\n",
       "      <td>1.000000</td>\n",
       "      <td>...</td>\n",
       "      <td>1.000000</td>\n",
       "      <td>1.000000</td>\n",
       "      <td>1.000000</td>\n",
       "      <td>1.000000</td>\n",
       "      <td>1.000000</td>\n",
       "      <td>1.000000</td>\n",
       "      <td>1.000000</td>\n",
       "      <td>1.000000</td>\n",
       "      <td>1.000000</td>\n",
       "      <td>1.000000</td>\n",
       "    </tr>\n",
       "    <tr>\n",
       "      <th>1</th>\n",
       "      <td>1.011039</td>\n",
       "      <td>0.986931</td>\n",
       "      <td>0.988960</td>\n",
       "      <td>1.016302</td>\n",
       "      <td>1.003599</td>\n",
       "      <td>0.999499</td>\n",
       "      <td>0.977315</td>\n",
       "      <td>0.989933</td>\n",
       "      <td>1.006497</td>\n",
       "      <td>0.992761</td>\n",
       "      <td>...</td>\n",
       "      <td>0.980855</td>\n",
       "      <td>0.998904</td>\n",
       "      <td>1.004497</td>\n",
       "      <td>1.008484</td>\n",
       "      <td>1.005141</td>\n",
       "      <td>0.993981</td>\n",
       "      <td>0.993182</td>\n",
       "      <td>1.005830</td>\n",
       "      <td>1.016466</td>\n",
       "      <td>1.011892</td>\n",
       "    </tr>\n",
       "    <tr>\n",
       "      <th>2</th>\n",
       "      <td>1.003159</td>\n",
       "      <td>0.982084</td>\n",
       "      <td>0.999906</td>\n",
       "      <td>1.033300</td>\n",
       "      <td>1.007617</td>\n",
       "      <td>1.004724</td>\n",
       "      <td>0.979476</td>\n",
       "      <td>0.986908</td>\n",
       "      <td>0.989653</td>\n",
       "      <td>0.998973</td>\n",
       "      <td>...</td>\n",
       "      <td>1.003193</td>\n",
       "      <td>0.998814</td>\n",
       "      <td>1.022040</td>\n",
       "      <td>1.011059</td>\n",
       "      <td>1.000109</td>\n",
       "      <td>1.003287</td>\n",
       "      <td>0.996053</td>\n",
       "      <td>1.009511</td>\n",
       "      <td>1.013303</td>\n",
       "      <td>1.004521</td>\n",
       "    </tr>\n",
       "    <tr>\n",
       "      <th>3</th>\n",
       "      <td>1.015230</td>\n",
       "      <td>0.980666</td>\n",
       "      <td>1.005506</td>\n",
       "      <td>1.038653</td>\n",
       "      <td>1.009439</td>\n",
       "      <td>1.011208</td>\n",
       "      <td>0.987906</td>\n",
       "      <td>0.999041</td>\n",
       "      <td>0.991266</td>\n",
       "      <td>1.013293</td>\n",
       "      <td>...</td>\n",
       "      <td>0.996143</td>\n",
       "      <td>0.989890</td>\n",
       "      <td>1.009378</td>\n",
       "      <td>1.006712</td>\n",
       "      <td>0.996497</td>\n",
       "      <td>1.004326</td>\n",
       "      <td>0.991069</td>\n",
       "      <td>1.008107</td>\n",
       "      <td>1.022078</td>\n",
       "      <td>1.001421</td>\n",
       "    </tr>\n",
       "    <tr>\n",
       "      <th>4</th>\n",
       "      <td>1.009338</td>\n",
       "      <td>0.990901</td>\n",
       "      <td>1.007691</td>\n",
       "      <td>1.028061</td>\n",
       "      <td>1.014318</td>\n",
       "      <td>0.999634</td>\n",
       "      <td>0.977982</td>\n",
       "      <td>1.015431</td>\n",
       "      <td>0.991314</td>\n",
       "      <td>1.009719</td>\n",
       "      <td>...</td>\n",
       "      <td>0.992286</td>\n",
       "      <td>1.013133</td>\n",
       "      <td>0.993111</td>\n",
       "      <td>1.020135</td>\n",
       "      <td>0.996813</td>\n",
       "      <td>1.013081</td>\n",
       "      <td>0.987755</td>\n",
       "      <td>1.004955</td>\n",
       "      <td>1.023837</td>\n",
       "      <td>0.987195</td>\n",
       "    </tr>\n",
       "    <tr>\n",
       "      <th>...</th>\n",
       "      <td>...</td>\n",
       "      <td>...</td>\n",
       "      <td>...</td>\n",
       "      <td>...</td>\n",
       "      <td>...</td>\n",
       "      <td>...</td>\n",
       "      <td>...</td>\n",
       "      <td>...</td>\n",
       "      <td>...</td>\n",
       "      <td>...</td>\n",
       "      <td>...</td>\n",
       "      <td>...</td>\n",
       "      <td>...</td>\n",
       "      <td>...</td>\n",
       "      <td>...</td>\n",
       "      <td>...</td>\n",
       "      <td>...</td>\n",
       "      <td>...</td>\n",
       "      <td>...</td>\n",
       "      <td>...</td>\n",
       "      <td>...</td>\n",
       "    </tr>\n",
       "    <tr>\n",
       "      <th>7556</th>\n",
       "      <td>1.295820</td>\n",
       "      <td>4.871784</td>\n",
       "      <td>1.216886</td>\n",
       "      <td>11.497400</td>\n",
       "      <td>5.529541</td>\n",
       "      <td>13.307362</td>\n",
       "      <td>15.566092</td>\n",
       "      <td>7.843204</td>\n",
       "      <td>11.234155</td>\n",
       "      <td>2.772035</td>\n",
       "      <td>...</td>\n",
       "      <td>11.932184</td>\n",
       "      <td>4.236491</td>\n",
       "      <td>3.094058</td>\n",
       "      <td>7.171279</td>\n",
       "      <td>4.002143</td>\n",
       "      <td>7.684547</td>\n",
       "      <td>7.958398</td>\n",
       "      <td>4.607360</td>\n",
       "      <td>9.114155</td>\n",
       "      <td>16.637421</td>\n",
       "    </tr>\n",
       "    <tr>\n",
       "      <th>7557</th>\n",
       "      <td>1.301182</td>\n",
       "      <td>4.842243</td>\n",
       "      <td>1.216874</td>\n",
       "      <td>11.679466</td>\n",
       "      <td>5.516538</td>\n",
       "      <td>13.405694</td>\n",
       "      <td>15.390326</td>\n",
       "      <td>7.773767</td>\n",
       "      <td>11.090049</td>\n",
       "      <td>2.756415</td>\n",
       "      <td>...</td>\n",
       "      <td>12.021976</td>\n",
       "      <td>4.249173</td>\n",
       "      <td>3.119199</td>\n",
       "      <td>7.269572</td>\n",
       "      <td>3.964429</td>\n",
       "      <td>7.739804</td>\n",
       "      <td>8.004233</td>\n",
       "      <td>4.641725</td>\n",
       "      <td>9.194005</td>\n",
       "      <td>16.468228</td>\n",
       "    </tr>\n",
       "    <tr>\n",
       "      <th>7558</th>\n",
       "      <td>1.300318</td>\n",
       "      <td>4.789320</td>\n",
       "      <td>1.225013</td>\n",
       "      <td>11.553329</td>\n",
       "      <td>5.556230</td>\n",
       "      <td>13.417379</td>\n",
       "      <td>15.354123</td>\n",
       "      <td>7.702551</td>\n",
       "      <td>11.103299</td>\n",
       "      <td>2.819026</td>\n",
       "      <td>...</td>\n",
       "      <td>12.141417</td>\n",
       "      <td>4.252288</td>\n",
       "      <td>3.115525</td>\n",
       "      <td>7.273218</td>\n",
       "      <td>3.900043</td>\n",
       "      <td>7.815065</td>\n",
       "      <td>8.048166</td>\n",
       "      <td>4.627316</td>\n",
       "      <td>9.202232</td>\n",
       "      <td>16.570224</td>\n",
       "    </tr>\n",
       "    <tr>\n",
       "      <th>7559</th>\n",
       "      <td>1.283271</td>\n",
       "      <td>4.829188</td>\n",
       "      <td>1.225183</td>\n",
       "      <td>11.300495</td>\n",
       "      <td>5.642449</td>\n",
       "      <td>13.575678</td>\n",
       "      <td>15.378593</td>\n",
       "      <td>7.669239</td>\n",
       "      <td>11.151366</td>\n",
       "      <td>2.819520</td>\n",
       "      <td>...</td>\n",
       "      <td>12.067177</td>\n",
       "      <td>4.325232</td>\n",
       "      <td>3.087679</td>\n",
       "      <td>7.362159</td>\n",
       "      <td>3.908994</td>\n",
       "      <td>7.755585</td>\n",
       "      <td>8.148947</td>\n",
       "      <td>4.661487</td>\n",
       "      <td>9.090519</td>\n",
       "      <td>16.194642</td>\n",
       "    </tr>\n",
       "    <tr>\n",
       "      <th>7560</th>\n",
       "      <td>1.277533</td>\n",
       "      <td>4.826916</td>\n",
       "      <td>1.247197</td>\n",
       "      <td>11.252242</td>\n",
       "      <td>5.681653</td>\n",
       "      <td>13.635201</td>\n",
       "      <td>15.312747</td>\n",
       "      <td>7.602264</td>\n",
       "      <td>11.125066</td>\n",
       "      <td>2.780998</td>\n",
       "      <td>...</td>\n",
       "      <td>11.949010</td>\n",
       "      <td>4.307748</td>\n",
       "      <td>3.120067</td>\n",
       "      <td>7.430762</td>\n",
       "      <td>3.917201</td>\n",
       "      <td>7.805204</td>\n",
       "      <td>8.163399</td>\n",
       "      <td>4.677952</td>\n",
       "      <td>9.206349</td>\n",
       "      <td>16.194021</td>\n",
       "    </tr>\n",
       "  </tbody>\n",
       "</table>\n",
       "<p>7561 rows × 500 columns</p>\n",
       "</div>"
      ],
      "text/plain": [
       "           0         1         2          3         4          5          6    \\\n",
       "0     1.000000  1.000000  1.000000   1.000000  1.000000   1.000000   1.000000   \n",
       "1     1.011039  0.986931  0.988960   1.016302  1.003599   0.999499   0.977315   \n",
       "2     1.003159  0.982084  0.999906   1.033300  1.007617   1.004724   0.979476   \n",
       "3     1.015230  0.980666  1.005506   1.038653  1.009439   1.011208   0.987906   \n",
       "4     1.009338  0.990901  1.007691   1.028061  1.014318   0.999634   0.977982   \n",
       "...        ...       ...       ...        ...       ...        ...        ...   \n",
       "7556  1.295820  4.871784  1.216886  11.497400  5.529541  13.307362  15.566092   \n",
       "7557  1.301182  4.842243  1.216874  11.679466  5.516538  13.405694  15.390326   \n",
       "7558  1.300318  4.789320  1.225013  11.553329  5.556230  13.417379  15.354123   \n",
       "7559  1.283271  4.829188  1.225183  11.300495  5.642449  13.575678  15.378593   \n",
       "7560  1.277533  4.826916  1.247197  11.252242  5.681653  13.635201  15.312747   \n",
       "\n",
       "           7          8         9    ...        490       491       492  \\\n",
       "0     1.000000   1.000000  1.000000  ...   1.000000  1.000000  1.000000   \n",
       "1     0.989933   1.006497  0.992761  ...   0.980855  0.998904  1.004497   \n",
       "2     0.986908   0.989653  0.998973  ...   1.003193  0.998814  1.022040   \n",
       "3     0.999041   0.991266  1.013293  ...   0.996143  0.989890  1.009378   \n",
       "4     1.015431   0.991314  1.009719  ...   0.992286  1.013133  0.993111   \n",
       "...        ...        ...       ...  ...        ...       ...       ...   \n",
       "7556  7.843204  11.234155  2.772035  ...  11.932184  4.236491  3.094058   \n",
       "7557  7.773767  11.090049  2.756415  ...  12.021976  4.249173  3.119199   \n",
       "7558  7.702551  11.103299  2.819026  ...  12.141417  4.252288  3.115525   \n",
       "7559  7.669239  11.151366  2.819520  ...  12.067177  4.325232  3.087679   \n",
       "7560  7.602264  11.125066  2.780998  ...  11.949010  4.307748  3.120067   \n",
       "\n",
       "           493       494       495       496       497       498        499  \n",
       "0     1.000000  1.000000  1.000000  1.000000  1.000000  1.000000   1.000000  \n",
       "1     1.008484  1.005141  0.993981  0.993182  1.005830  1.016466   1.011892  \n",
       "2     1.011059  1.000109  1.003287  0.996053  1.009511  1.013303   1.004521  \n",
       "3     1.006712  0.996497  1.004326  0.991069  1.008107  1.022078   1.001421  \n",
       "4     1.020135  0.996813  1.013081  0.987755  1.004955  1.023837   0.987195  \n",
       "...        ...       ...       ...       ...       ...       ...        ...  \n",
       "7556  7.171279  4.002143  7.684547  7.958398  4.607360  9.114155  16.637421  \n",
       "7557  7.269572  3.964429  7.739804  8.004233  4.641725  9.194005  16.468228  \n",
       "7558  7.273218  3.900043  7.815065  8.048166  4.627316  9.202232  16.570224  \n",
       "7559  7.362159  3.908994  7.755585  8.148947  4.661487  9.090519  16.194642  \n",
       "7560  7.430762  3.917201  7.805204  8.163399  4.677952  9.206349  16.194021  \n",
       "\n",
       "[7561 rows x 500 columns]"
      ]
     },
     "execution_count": 31,
     "metadata": {},
     "output_type": "execute_result"
    }
   ],
   "source": [
    "# Run the Monte Carlo simulation to forecast 30 years cumulative returns\n",
    "thirty_year_simulation.calc_cumulative_return()"
   ]
  },
  {
   "cell_type": "code",
   "execution_count": 32,
   "metadata": {},
   "outputs": [
    {
     "data": {
      "text/plain": [
       "<AxesSubplot:title={'center':'500 Simulations of Cumulative Portfolio Return Trajectories Over the Next 7560 Trading Days.'}>"
      ]
     },
     "execution_count": 32,
     "metadata": {},
     "output_type": "execute_result"
    },
    {
     "data": {
      "image/png": "[encoded data removed]",
      "text/plain": [
       "<Figure size 640x480 with 1 Axes>"
      ]
     },
     "metadata": {},
     "output_type": "display_data"
    }
   ],
   "source": [
    "# Visualize the 30-year Monte Carlo simulation by creating an\n",
    "# overlay line plot\n",
    "thirty_year_simulation.plot_simulation()"
   ]
  },
  {
   "cell_type": "markdown",
   "metadata": {},
   "source": [
    "#### Step 3: Plot the probability distribution of the Monte Carlo simulation."
   ]
  },
  {
   "cell_type": "code",
   "execution_count": 33,
   "metadata": {},
   "outputs": [
    {
     "data": {
      "text/plain": [
       "<AxesSubplot:title={'center':'Distribution of Final Cumuluative Returns Across All 500 Simulations'}, ylabel='Frequency'>"
      ]
     },
     "execution_count": 33,
     "metadata": {},
     "output_type": "execute_result"
    },
    {
     "data": {
      "image/png": "[encoded data removed]",
      "text/plain": [
       "<Figure size 640x480 with 1 Axes>"
      ]
     },
     "metadata": {},
     "output_type": "display_data"
    }
   ],
   "source": [
    "# Visualize the probability distribution of the 30-year Monte Carlo simulation \n",
    "# by plotting a histogram\n",
    "thirty_year_simulation.plot_distribution()"
   ]
  },
  {
   "cell_type": "markdown",
   "metadata": {},
   "source": [
    "#### Step 4: Generate the summary statistics for the Monte Carlo simulation."
   ]
  },
  {
   "cell_type": "code",
   "execution_count": 34,
   "metadata": {},
   "outputs": [
    {
     "data": {
      "text/plain": [
       "count           500.000000\n",
       "mean              6.260836\n",
       "std               5.158335\n",
       "min               0.663980\n",
       "25%               2.762342\n",
       "50%               4.683749\n",
       "75%               8.080971\n",
       "max              47.657125\n",
       "95% CI Lower      1.043501\n",
       "95% CI Upper     19.802303\n",
       "Name: 7560, dtype: float64"
      ]
     },
     "execution_count": 34,
     "metadata": {},
     "output_type": "execute_result"
    }
   ],
   "source": [
    "# Generate summary statistics from the 30-year Monte Carlo simulation results\n",
    "# Save the results as a variable\n",
    "thirty_year_simulation_statistics = thirty_year_simulation.summarize_cumulative_return()\n",
    "\n",
    "# Review the 30-year Monte Carlo summary statistics\n",
    "thirty_year_simulation_statistics\n"
   ]
  },
  {
   "cell_type": "markdown",
   "metadata": {},
   "source": [
    "### 30 Year Plan Analysis "
   ]
  },
  {
   "cell_type": "code",
   "execution_count": 35,
   "metadata": {},
   "outputs": [
    {
     "data": {
      "text/plain": [
       "63505.7"
      ]
     },
     "execution_count": 35,
     "metadata": {},
     "output_type": "execute_result"
    }
   ],
   "source": [
    "# Print the current balance of the stock and bond portion of the members portfolio\n",
    "total_stocks_bonds"
   ]
  },
  {
   "cell_type": "code",
   "execution_count": 36,
   "metadata": {},
   "outputs": [
    {
     "name": "stdout",
     "output_type": "stream",
     "text": [
      "There is a 95% chance that the current portfolio investment total of 63505.7  with a weight of 60% stock 40% bond will end within in the range of $66268.24 and $1257559.09 over the next 30 years.\n"
     ]
    }
   ],
   "source": [
    "# Use the lower and upper `95%` confidence intervals to calculate the range of the possible outcomes for the current stock/bond portfolio\n",
    "ci_lower_thirty_cumulative_return = round(thirty_year_simulation_statistics[8]*total_stocks_bonds,2)\n",
    "ci_upper_thirty_cumulative_return = round(thirty_year_simulation_statistics[9]*total_stocks_bonds,2)\n",
    "\n",
    "# Print the result of your calculations\n",
    "print(f\"There is a 95% chance that the current portfolio investment total of {total_stocks_bonds} \"\n",
    "      f\" with a weight of 60% stock 40% bond will end within in the range of\"\n",
    "      f\" ${ci_lower_thirty_cumulative_return} and ${ci_upper_thirty_cumulative_return} over the next 30 years.\")"
   ]
  },
  {
   "cell_type": "markdown",
   "metadata": {},
   "source": [
    "### Forecast Cumulative Returns in 10 Years\n",
    "\n",
    "The next task is to adjust the retirement portfolio and run a new Monte Carlo simulation to find out if the changes will allow members to retire earlier.\n",
    "\n",
    "This new Monte Carlo simulation does the following: \n",
    "\n",
    "- Forecast the cumulative returns for 10 years from now. Because of the shortened investment horizon (30 years to 10 years), the portfolio needs to invest more heavily in the riskier asset&mdash;that is, stock&mdash;to help accumulate wealth for retirement. \n",
    "\n",
    "- Adjust the weights of the retirement portfolio so that the composition for the Monte Carlo simulation consists of 20% bonds and 80% stocks. \n",
    "\n",
    "- Run the simulation over 500 samples, and use the same data that the API call to Alpaca generated.\n",
    "\n",
    "- Based on the new Monte Carlo simulation, answer the following questions in your Jupyter notebook:\n",
    "\n",
    "    - Using the current value of only the stock and bond portion of the member's portfolio and the summary statistics that you generated from the new Monte Carlo simulation, what are the lower and upper bounds for the expected value of the portfolio (with the new weights) with a 95% confidence interval?\n",
    "\n",
    "    - Will weighting the portfolio more heavily toward stocks allow the credit union members to retire after only 10 years?\n"
   ]
  },
  {
   "cell_type": "code",
   "execution_count": 37,
   "metadata": {},
   "outputs": [
    {
     "data": {
      "text/html": [
       "<div>\n",
       "<style scoped>\n",
       "    .dataframe tbody tr th:only-of-type {\n",
       "        vertical-align: middle;\n",
       "    }\n",
       "\n",
       "    .dataframe tbody tr th {\n",
       "        vertical-align: top;\n",
       "    }\n",
       "\n",
       "    .dataframe thead tr th {\n",
       "        text-align: left;\n",
       "    }\n",
       "</style>\n",
       "<table border=\"1\" class=\"dataframe\">\n",
       "  <thead>\n",
       "    <tr>\n",
       "      <th></th>\n",
       "      <th colspan=\"8\" halign=\"left\">SPY</th>\n",
       "      <th colspan=\"8\" halign=\"left\">AGG</th>\n",
       "    </tr>\n",
       "    <tr>\n",
       "      <th></th>\n",
       "      <th>open</th>\n",
       "      <th>high</th>\n",
       "      <th>low</th>\n",
       "      <th>close</th>\n",
       "      <th>volume</th>\n",
       "      <th>trade_count</th>\n",
       "      <th>vwap</th>\n",
       "      <th>daily_return</th>\n",
       "      <th>open</th>\n",
       "      <th>high</th>\n",
       "      <th>low</th>\n",
       "      <th>close</th>\n",
       "      <th>volume</th>\n",
       "      <th>trade_count</th>\n",
       "      <th>vwap</th>\n",
       "      <th>daily_return</th>\n",
       "    </tr>\n",
       "  </thead>\n",
       "  <tbody>\n",
       "    <tr>\n",
       "      <th>2019-07-19</th>\n",
       "      <td>300.04</td>\n",
       "      <td>300.07</td>\n",
       "      <td>296.96</td>\n",
       "      <td>297.26</td>\n",
       "      <td>76794138</td>\n",
       "      <td>260715</td>\n",
       "      <td>298.617649</td>\n",
       "      <td>NaN</td>\n",
       "      <td>111.22</td>\n",
       "      <td>111.286</td>\n",
       "      <td>111.1400</td>\n",
       "      <td>111.17</td>\n",
       "      <td>3150774</td>\n",
       "      <td>9948</td>\n",
       "      <td>111.225017</td>\n",
       "      <td>NaN</td>\n",
       "    </tr>\n",
       "    <tr>\n",
       "      <th>2019-07-22</th>\n",
       "      <td>297.61</td>\n",
       "      <td>298.50</td>\n",
       "      <td>297.04</td>\n",
       "      <td>297.81</td>\n",
       "      <td>45137404</td>\n",
       "      <td>186383</td>\n",
       "      <td>297.748117</td>\n",
       "      <td>0.001850</td>\n",
       "      <td>111.41</td>\n",
       "      <td>111.410</td>\n",
       "      <td>111.3000</td>\n",
       "      <td>111.31</td>\n",
       "      <td>2855073</td>\n",
       "      <td>7937</td>\n",
       "      <td>111.344721</td>\n",
       "      <td>0.001259</td>\n",
       "    </tr>\n",
       "    <tr>\n",
       "      <th>2019-07-23</th>\n",
       "      <td>299.15</td>\n",
       "      <td>300.03</td>\n",
       "      <td>298.22</td>\n",
       "      <td>299.98</td>\n",
       "      <td>44935473</td>\n",
       "      <td>208847</td>\n",
       "      <td>299.177015</td>\n",
       "      <td>0.007287</td>\n",
       "      <td>111.27</td>\n",
       "      <td>111.320</td>\n",
       "      <td>111.1600</td>\n",
       "      <td>111.20</td>\n",
       "      <td>2659305</td>\n",
       "      <td>10894</td>\n",
       "      <td>111.219201</td>\n",
       "      <td>-0.000988</td>\n",
       "    </tr>\n",
       "    <tr>\n",
       "      <th>2019-07-24</th>\n",
       "      <td>299.19</td>\n",
       "      <td>301.44</td>\n",
       "      <td>299.09</td>\n",
       "      <td>301.40</td>\n",
       "      <td>47738870</td>\n",
       "      <td>204882</td>\n",
       "      <td>300.570907</td>\n",
       "      <td>0.004734</td>\n",
       "      <td>111.33</td>\n",
       "      <td>111.410</td>\n",
       "      <td>111.2950</td>\n",
       "      <td>111.36</td>\n",
       "      <td>2783461</td>\n",
       "      <td>12750</td>\n",
       "      <td>111.337833</td>\n",
       "      <td>0.001439</td>\n",
       "    </tr>\n",
       "    <tr>\n",
       "      <th>2019-07-25</th>\n",
       "      <td>300.94</td>\n",
       "      <td>301.00</td>\n",
       "      <td>299.11</td>\n",
       "      <td>299.97</td>\n",
       "      <td>55864213</td>\n",
       "      <td>266901</td>\n",
       "      <td>300.079179</td>\n",
       "      <td>-0.004745</td>\n",
       "      <td>111.33</td>\n",
       "      <td>111.330</td>\n",
       "      <td>111.0474</td>\n",
       "      <td>111.19</td>\n",
       "      <td>2977486</td>\n",
       "      <td>11325</td>\n",
       "      <td>111.190464</td>\n",
       "      <td>-0.001527</td>\n",
       "    </tr>\n",
       "  </tbody>\n",
       "</table>\n",
       "</div>"
      ],
      "text/plain": [
       "               SPY                                                            \\\n",
       "              open    high     low   close    volume trade_count        vwap   \n",
       "2019-07-19  300.04  300.07  296.96  297.26  76794138      260715  298.617649   \n",
       "2019-07-22  297.61  298.50  297.04  297.81  45137404      186383  297.748117   \n",
       "2019-07-23  299.15  300.03  298.22  299.98  44935473      208847  299.177015   \n",
       "2019-07-24  299.19  301.44  299.09  301.40  47738870      204882  300.570907   \n",
       "2019-07-25  300.94  301.00  299.11  299.97  55864213      266901  300.079179   \n",
       "\n",
       "                            AGG                                      \\\n",
       "           daily_return    open     high       low   close   volume   \n",
       "2019-07-19          NaN  111.22  111.286  111.1400  111.17  3150774   \n",
       "2019-07-22     0.001850  111.41  111.410  111.3000  111.31  2855073   \n",
       "2019-07-23     0.007287  111.27  111.320  111.1600  111.20  2659305   \n",
       "2019-07-24     0.004734  111.33  111.410  111.2950  111.36  2783461   \n",
       "2019-07-25    -0.004745  111.33  111.330  111.0474  111.19  2977486   \n",
       "\n",
       "                                                 \n",
       "           trade_count        vwap daily_return  \n",
       "2019-07-19        9948  111.225017          NaN  \n",
       "2019-07-22        7937  111.344721     0.001259  \n",
       "2019-07-23       10894  111.219201    -0.000988  \n",
       "2019-07-24       12750  111.337833     0.001439  \n",
       "2019-07-25       11325  111.190464    -0.001527  "
      ]
     },
     "execution_count": 37,
     "metadata": {},
     "output_type": "execute_result"
    }
   ],
   "source": [
    "# Configure a Monte Carlo simulation to forecast 10 years cumulative returns\n",
    "# The weights should be split 20% to AGG and 80% to SPY.\n",
    "# Run 500 samples.\n",
    "ten_year_simulation = MCSimulation(\n",
    "    portfolio_data=historical_closing_df,\n",
    "    weights=[0.8, 0.2],\n",
    "    num_simulation=500,\n",
    "    num_trading_days=252*10,\n",
    ")\n",
    "\n",
    "\n",
    "# Review the simulation input data\n",
    "ten_year_simulation.portfolio_data.head()\n"
   ]
  },
  {
   "cell_type": "code",
   "execution_count": 38,
   "metadata": {},
   "outputs": [
    {
     "name": "stdout",
     "output_type": "stream",
     "text": [
      "Running Monte Carlo simulation number 0.\n",
      "Running Monte Carlo simulation number 10.\n",
      "Running Monte Carlo simulation number 20.\n",
      "Running Monte Carlo simulation number 30.\n",
      "Running Monte Carlo simulation number 40.\n",
      "Running Monte Carlo simulation number 50.\n",
      "Running Monte Carlo simulation number 60.\n",
      "Running Monte Carlo simulation number 70.\n",
      "Running Monte Carlo simulation number 80.\n",
      "Running Monte Carlo simulation number 90.\n",
      "Running Monte Carlo simulation number 100.\n"
     ]
    },
    {
     "name": "stderr",
     "output_type": "stream",
     "text": [
      "/Users/colefrederick/Desktop/Folders/Coding/Bootcamp/Challenge/Module_5_Challenge/Financial_Planner/MCForecastTools.py:117: PerformanceWarning: DataFrame is highly fragmented.  This is usually the result of calling `frame.insert` many times, which has poor performance.  Consider joining all columns at once using pd.concat(axis=1) instead.  To get a de-fragmented frame, use `newframe = frame.copy()`\n",
      "  portfolio_cumulative_returns[n] = (1 + sim_df.fillna(0)).cumprod()\n"
     ]
    },
    {
     "name": "stdout",
     "output_type": "stream",
     "text": [
      "Running Monte Carlo simulation number 110.\n",
      "Running Monte Carlo simulation number 120.\n",
      "Running Monte Carlo simulation number 130.\n",
      "Running Monte Carlo simulation number 140.\n",
      "Running Monte Carlo simulation number 150.\n",
      "Running Monte Carlo simulation number 160.\n",
      "Running Monte Carlo simulation number 170.\n",
      "Running Monte Carlo simulation number 180.\n",
      "Running Monte Carlo simulation number 190.\n",
      "Running Monte Carlo simulation number 200.\n",
      "Running Monte Carlo simulation number 210.\n",
      "Running Monte Carlo simulation number 220.\n",
      "Running Monte Carlo simulation number 230.\n",
      "Running Monte Carlo simulation number 240.\n",
      "Running Monte Carlo simulation number 250.\n",
      "Running Monte Carlo simulation number 260.\n",
      "Running Monte Carlo simulation number 270.\n",
      "Running Monte Carlo simulation number 280.\n",
      "Running Monte Carlo simulation number 290.\n",
      "Running Monte Carlo simulation number 300.\n",
      "Running Monte Carlo simulation number 310.\n",
      "Running Monte Carlo simulation number 320.\n",
      "Running Monte Carlo simulation number 330.\n",
      "Running Monte Carlo simulation number 340.\n",
      "Running Monte Carlo simulation number 350.\n",
      "Running Monte Carlo simulation number 360.\n",
      "Running Monte Carlo simulation number 370.\n",
      "Running Monte Carlo simulation number 380.\n",
      "Running Monte Carlo simulation number 390.\n",
      "Running Monte Carlo simulation number 400.\n",
      "Running Monte Carlo simulation number 410.\n",
      "Running Monte Carlo simulation number 420.\n",
      "Running Monte Carlo simulation number 430.\n",
      "Running Monte Carlo simulation number 440.\n",
      "Running Monte Carlo simulation number 450.\n",
      "Running Monte Carlo simulation number 460.\n",
      "Running Monte Carlo simulation number 470.\n",
      "Running Monte Carlo simulation number 480.\n",
      "Running Monte Carlo simulation number 490.\n"
     ]
    },
    {
     "data": {
      "text/html": [
       "<div>\n",
       "<style scoped>\n",
       "    .dataframe tbody tr th:only-of-type {\n",
       "        vertical-align: middle;\n",
       "    }\n",
       "\n",
       "    .dataframe tbody tr th {\n",
       "        vertical-align: top;\n",
       "    }\n",
       "\n",
       "    .dataframe thead th {\n",
       "        text-align: right;\n",
       "    }\n",
       "</style>\n",
       "<table border=\"1\" class=\"dataframe\">\n",
       "  <thead>\n",
       "    <tr style=\"text-align: right;\">\n",
       "      <th></th>\n",
       "      <th>0</th>\n",
       "      <th>1</th>\n",
       "      <th>2</th>\n",
       "      <th>3</th>\n",
       "      <th>4</th>\n",
       "      <th>5</th>\n",
       "      <th>6</th>\n",
       "      <th>7</th>\n",
       "      <th>8</th>\n",
       "      <th>9</th>\n",
       "      <th>...</th>\n",
       "      <th>490</th>\n",
       "      <th>491</th>\n",
       "      <th>492</th>\n",
       "      <th>493</th>\n",
       "      <th>494</th>\n",
       "      <th>495</th>\n",
       "      <th>496</th>\n",
       "      <th>497</th>\n",
       "      <th>498</th>\n",
       "      <th>499</th>\n",
       "    </tr>\n",
       "  </thead>\n",
       "  <tbody>\n",
       "    <tr>\n",
       "      <th>0</th>\n",
       "      <td>1.000000</td>\n",
       "      <td>1.000000</td>\n",
       "      <td>1.000000</td>\n",
       "      <td>1.000000</td>\n",
       "      <td>1.000000</td>\n",
       "      <td>1.000000</td>\n",
       "      <td>1.000000</td>\n",
       "      <td>1.000000</td>\n",
       "      <td>1.000000</td>\n",
       "      <td>1.000000</td>\n",
       "      <td>...</td>\n",
       "      <td>1.000000</td>\n",
       "      <td>1.000000</td>\n",
       "      <td>1.000000</td>\n",
       "      <td>1.000000</td>\n",
       "      <td>1.000000</td>\n",
       "      <td>1.000000</td>\n",
       "      <td>1.000000</td>\n",
       "      <td>1.000000</td>\n",
       "      <td>1.000000</td>\n",
       "      <td>1.000000</td>\n",
       "    </tr>\n",
       "    <tr>\n",
       "      <th>1</th>\n",
       "      <td>0.975488</td>\n",
       "      <td>1.010878</td>\n",
       "      <td>1.004669</td>\n",
       "      <td>1.002117</td>\n",
       "      <td>0.988572</td>\n",
       "      <td>1.004963</td>\n",
       "      <td>1.004157</td>\n",
       "      <td>1.005307</td>\n",
       "      <td>1.008980</td>\n",
       "      <td>0.989456</td>\n",
       "      <td>...</td>\n",
       "      <td>1.030454</td>\n",
       "      <td>1.012894</td>\n",
       "      <td>1.003115</td>\n",
       "      <td>0.996442</td>\n",
       "      <td>0.989380</td>\n",
       "      <td>1.001528</td>\n",
       "      <td>0.998053</td>\n",
       "      <td>1.004857</td>\n",
       "      <td>0.978646</td>\n",
       "      <td>1.002477</td>\n",
       "    </tr>\n",
       "    <tr>\n",
       "      <th>2</th>\n",
       "      <td>0.955162</td>\n",
       "      <td>1.030907</td>\n",
       "      <td>1.011471</td>\n",
       "      <td>1.010106</td>\n",
       "      <td>1.007755</td>\n",
       "      <td>0.998871</td>\n",
       "      <td>1.021649</td>\n",
       "      <td>1.011677</td>\n",
       "      <td>1.019928</td>\n",
       "      <td>1.007584</td>\n",
       "      <td>...</td>\n",
       "      <td>1.018650</td>\n",
       "      <td>1.027262</td>\n",
       "      <td>1.012649</td>\n",
       "      <td>0.997202</td>\n",
       "      <td>0.972557</td>\n",
       "      <td>1.005529</td>\n",
       "      <td>0.991426</td>\n",
       "      <td>1.015947</td>\n",
       "      <td>0.982750</td>\n",
       "      <td>1.015333</td>\n",
       "    </tr>\n",
       "    <tr>\n",
       "      <th>3</th>\n",
       "      <td>0.948770</td>\n",
       "      <td>1.027831</td>\n",
       "      <td>1.003704</td>\n",
       "      <td>1.002839</td>\n",
       "      <td>1.025275</td>\n",
       "      <td>0.989776</td>\n",
       "      <td>1.028288</td>\n",
       "      <td>1.015913</td>\n",
       "      <td>0.997321</td>\n",
       "      <td>1.009266</td>\n",
       "      <td>...</td>\n",
       "      <td>1.011504</td>\n",
       "      <td>1.026904</td>\n",
       "      <td>1.011518</td>\n",
       "      <td>1.005702</td>\n",
       "      <td>0.972487</td>\n",
       "      <td>0.981186</td>\n",
       "      <td>0.982991</td>\n",
       "      <td>1.027151</td>\n",
       "      <td>0.969921</td>\n",
       "      <td>1.013350</td>\n",
       "    </tr>\n",
       "    <tr>\n",
       "      <th>4</th>\n",
       "      <td>0.946572</td>\n",
       "      <td>1.045450</td>\n",
       "      <td>1.002939</td>\n",
       "      <td>0.998430</td>\n",
       "      <td>1.031205</td>\n",
       "      <td>0.962151</td>\n",
       "      <td>1.038372</td>\n",
       "      <td>1.017158</td>\n",
       "      <td>0.984807</td>\n",
       "      <td>1.001378</td>\n",
       "      <td>...</td>\n",
       "      <td>1.027783</td>\n",
       "      <td>1.010700</td>\n",
       "      <td>1.027152</td>\n",
       "      <td>1.022834</td>\n",
       "      <td>0.994529</td>\n",
       "      <td>0.996566</td>\n",
       "      <td>0.998335</td>\n",
       "      <td>1.040148</td>\n",
       "      <td>0.965910</td>\n",
       "      <td>1.018479</td>\n",
       "    </tr>\n",
       "    <tr>\n",
       "      <th>...</th>\n",
       "      <td>...</td>\n",
       "      <td>...</td>\n",
       "      <td>...</td>\n",
       "      <td>...</td>\n",
       "      <td>...</td>\n",
       "      <td>...</td>\n",
       "      <td>...</td>\n",
       "      <td>...</td>\n",
       "      <td>...</td>\n",
       "      <td>...</td>\n",
       "      <td>...</td>\n",
       "      <td>...</td>\n",
       "      <td>...</td>\n",
       "      <td>...</td>\n",
       "      <td>...</td>\n",
       "      <td>...</td>\n",
       "      <td>...</td>\n",
       "      <td>...</td>\n",
       "      <td>...</td>\n",
       "      <td>...</td>\n",
       "      <td>...</td>\n",
       "    </tr>\n",
       "    <tr>\n",
       "      <th>2516</th>\n",
       "      <td>3.365282</td>\n",
       "      <td>1.858456</td>\n",
       "      <td>1.872638</td>\n",
       "      <td>2.883095</td>\n",
       "      <td>2.662049</td>\n",
       "      <td>1.882924</td>\n",
       "      <td>0.732791</td>\n",
       "      <td>2.687171</td>\n",
       "      <td>1.927886</td>\n",
       "      <td>3.365098</td>\n",
       "      <td>...</td>\n",
       "      <td>1.681122</td>\n",
       "      <td>1.741344</td>\n",
       "      <td>0.809451</td>\n",
       "      <td>2.511892</td>\n",
       "      <td>3.612593</td>\n",
       "      <td>1.938741</td>\n",
       "      <td>6.494000</td>\n",
       "      <td>2.808237</td>\n",
       "      <td>1.686692</td>\n",
       "      <td>2.628204</td>\n",
       "    </tr>\n",
       "    <tr>\n",
       "      <th>2517</th>\n",
       "      <td>3.410464</td>\n",
       "      <td>1.832934</td>\n",
       "      <td>1.908538</td>\n",
       "      <td>2.815196</td>\n",
       "      <td>2.583933</td>\n",
       "      <td>1.887353</td>\n",
       "      <td>0.741912</td>\n",
       "      <td>2.681792</td>\n",
       "      <td>1.950055</td>\n",
       "      <td>3.369607</td>\n",
       "      <td>...</td>\n",
       "      <td>1.656739</td>\n",
       "      <td>1.726648</td>\n",
       "      <td>0.806193</td>\n",
       "      <td>2.503843</td>\n",
       "      <td>3.577844</td>\n",
       "      <td>1.956004</td>\n",
       "      <td>6.566934</td>\n",
       "      <td>2.809341</td>\n",
       "      <td>1.667165</td>\n",
       "      <td>2.665568</td>\n",
       "    </tr>\n",
       "    <tr>\n",
       "      <th>2518</th>\n",
       "      <td>3.346688</td>\n",
       "      <td>1.788261</td>\n",
       "      <td>1.942076</td>\n",
       "      <td>2.836808</td>\n",
       "      <td>2.619832</td>\n",
       "      <td>1.900500</td>\n",
       "      <td>0.751563</td>\n",
       "      <td>2.730127</td>\n",
       "      <td>1.965267</td>\n",
       "      <td>3.412707</td>\n",
       "      <td>...</td>\n",
       "      <td>1.636979</td>\n",
       "      <td>1.710758</td>\n",
       "      <td>0.797170</td>\n",
       "      <td>2.504216</td>\n",
       "      <td>3.566058</td>\n",
       "      <td>1.984771</td>\n",
       "      <td>6.567522</td>\n",
       "      <td>2.828887</td>\n",
       "      <td>1.682011</td>\n",
       "      <td>2.723533</td>\n",
       "    </tr>\n",
       "    <tr>\n",
       "      <th>2519</th>\n",
       "      <td>3.412027</td>\n",
       "      <td>1.809169</td>\n",
       "      <td>1.933641</td>\n",
       "      <td>2.814699</td>\n",
       "      <td>2.614260</td>\n",
       "      <td>1.891620</td>\n",
       "      <td>0.746448</td>\n",
       "      <td>2.702581</td>\n",
       "      <td>1.968100</td>\n",
       "      <td>3.419283</td>\n",
       "      <td>...</td>\n",
       "      <td>1.644975</td>\n",
       "      <td>1.723551</td>\n",
       "      <td>0.796482</td>\n",
       "      <td>2.512745</td>\n",
       "      <td>3.623423</td>\n",
       "      <td>2.005518</td>\n",
       "      <td>6.679612</td>\n",
       "      <td>2.832824</td>\n",
       "      <td>1.675884</td>\n",
       "      <td>2.727216</td>\n",
       "    </tr>\n",
       "    <tr>\n",
       "      <th>2520</th>\n",
       "      <td>3.446326</td>\n",
       "      <td>1.819946</td>\n",
       "      <td>1.931918</td>\n",
       "      <td>2.859327</td>\n",
       "      <td>2.671915</td>\n",
       "      <td>1.924420</td>\n",
       "      <td>0.745175</td>\n",
       "      <td>2.712672</td>\n",
       "      <td>1.941961</td>\n",
       "      <td>3.454092</td>\n",
       "      <td>...</td>\n",
       "      <td>1.636280</td>\n",
       "      <td>1.745453</td>\n",
       "      <td>0.780781</td>\n",
       "      <td>2.523054</td>\n",
       "      <td>3.639895</td>\n",
       "      <td>2.018661</td>\n",
       "      <td>6.660446</td>\n",
       "      <td>2.796398</td>\n",
       "      <td>1.687139</td>\n",
       "      <td>2.743488</td>\n",
       "    </tr>\n",
       "  </tbody>\n",
       "</table>\n",
       "<p>2521 rows × 500 columns</p>\n",
       "</div>"
      ],
      "text/plain": [
       "           0         1         2         3         4         5         6    \\\n",
       "0     1.000000  1.000000  1.000000  1.000000  1.000000  1.000000  1.000000   \n",
       "1     0.975488  1.010878  1.004669  1.002117  0.988572  1.004963  1.004157   \n",
       "2     0.955162  1.030907  1.011471  1.010106  1.007755  0.998871  1.021649   \n",
       "3     0.948770  1.027831  1.003704  1.002839  1.025275  0.989776  1.028288   \n",
       "4     0.946572  1.045450  1.002939  0.998430  1.031205  0.962151  1.038372   \n",
       "...        ...       ...       ...       ...       ...       ...       ...   \n",
       "2516  3.365282  1.858456  1.872638  2.883095  2.662049  1.882924  0.732791   \n",
       "2517  3.410464  1.832934  1.908538  2.815196  2.583933  1.887353  0.741912   \n",
       "2518  3.346688  1.788261  1.942076  2.836808  2.619832  1.900500  0.751563   \n",
       "2519  3.412027  1.809169  1.933641  2.814699  2.614260  1.891620  0.746448   \n",
       "2520  3.446326  1.819946  1.931918  2.859327  2.671915  1.924420  0.745175   \n",
       "\n",
       "           7         8         9    ...       490       491       492  \\\n",
       "0     1.000000  1.000000  1.000000  ...  1.000000  1.000000  1.000000   \n",
       "1     1.005307  1.008980  0.989456  ...  1.030454  1.012894  1.003115   \n",
       "2     1.011677  1.019928  1.007584  ...  1.018650  1.027262  1.012649   \n",
       "3     1.015913  0.997321  1.009266  ...  1.011504  1.026904  1.011518   \n",
       "4     1.017158  0.984807  1.001378  ...  1.027783  1.010700  1.027152   \n",
       "...        ...       ...       ...  ...       ...       ...       ...   \n",
       "2516  2.687171  1.927886  3.365098  ...  1.681122  1.741344  0.809451   \n",
       "2517  2.681792  1.950055  3.369607  ...  1.656739  1.726648  0.806193   \n",
       "2518  2.730127  1.965267  3.412707  ...  1.636979  1.710758  0.797170   \n",
       "2519  2.702581  1.968100  3.419283  ...  1.644975  1.723551  0.796482   \n",
       "2520  2.712672  1.941961  3.454092  ...  1.636280  1.745453  0.780781   \n",
       "\n",
       "           493       494       495       496       497       498       499  \n",
       "0     1.000000  1.000000  1.000000  1.000000  1.000000  1.000000  1.000000  \n",
       "1     0.996442  0.989380  1.001528  0.998053  1.004857  0.978646  1.002477  \n",
       "2     0.997202  0.972557  1.005529  0.991426  1.015947  0.982750  1.015333  \n",
       "3     1.005702  0.972487  0.981186  0.982991  1.027151  0.969921  1.013350  \n",
       "4     1.022834  0.994529  0.996566  0.998335  1.040148  0.965910  1.018479  \n",
       "...        ...       ...       ...       ...       ...       ...       ...  \n",
       "2516  2.511892  3.612593  1.938741  6.494000  2.808237  1.686692  2.628204  \n",
       "2517  2.503843  3.577844  1.956004  6.566934  2.809341  1.667165  2.665568  \n",
       "2518  2.504216  3.566058  1.984771  6.567522  2.828887  1.682011  2.723533  \n",
       "2519  2.512745  3.623423  2.005518  6.679612  2.832824  1.675884  2.727216  \n",
       "2520  2.523054  3.639895  2.018661  6.660446  2.796398  1.687139  2.743488  \n",
       "\n",
       "[2521 rows x 500 columns]"
      ]
     },
     "execution_count": 38,
     "metadata": {},
     "output_type": "execute_result"
    }
   ],
   "source": [
    "# Run the Monte Carlo simulation to forecast 10 years cumulative returns\n",
    "ten_year_simulation.calc_cumulative_return()"
   ]
  },
  {
   "cell_type": "code",
   "execution_count": 39,
   "metadata": {},
   "outputs": [
    {
     "data": {
      "text/plain": [
       "<AxesSubplot:title={'center':'500 Simulations of Cumulative Portfolio Return Trajectories Over the Next 2520 Trading Days.'}>"
      ]
     },
     "execution_count": 39,
     "metadata": {},
     "output_type": "execute_result"
    },
    {
     "data": {
      "image/png": "[encoded data removed]",
      "text/plain": [
       "<Figure size 640x480 with 1 Axes>"
      ]
     },
     "metadata": {},
     "output_type": "display_data"
    }
   ],
   "source": [
    "# Visualize the 10-year Monte Carlo simulation by creating an\n",
    "# overlay line plot\n",
    "ten_year_simulation.plot_simulation()"
   ]
  },
  {
   "cell_type": "code",
   "execution_count": 40,
   "metadata": {},
   "outputs": [
    {
     "data": {
      "text/plain": [
       "<AxesSubplot:title={'center':'Distribution of Final Cumuluative Returns Across All 500 Simulations'}, ylabel='Frequency'>"
      ]
     },
     "execution_count": 40,
     "metadata": {},
     "output_type": "execute_result"
    },
    {
     "data": {
      "image/png": "[encoded data removed]",
      "text/plain": [
       "<Figure size 640x480 with 1 Axes>"
      ]
     },
     "metadata": {},
     "output_type": "display_data"
    }
   ],
   "source": [
    "# Visualize the probability distribution of the 10-year Monte Carlo simulation \n",
    "# by plotting a histogram\n",
    "ten_year_simulation.plot_distribution()"
   ]
  },
  {
   "cell_type": "code",
   "execution_count": 41,
   "metadata": {},
   "outputs": [
    {
     "data": {
      "text/plain": [
       "count           500.000000\n",
       "mean              2.388402\n",
       "std               1.559298\n",
       "min               0.205730\n",
       "25%               1.355844\n",
       "50%               2.020728\n",
       "75%               2.952935\n",
       "max              14.679173\n",
       "95% CI Lower      0.725322\n",
       "95% CI Upper      6.523276\n",
       "Name: 2520, dtype: float64"
      ]
     },
     "execution_count": 41,
     "metadata": {},
     "output_type": "execute_result"
    }
   ],
   "source": [
    "# Generate summary statistics from the 10-year Monte Carlo simulation results\n",
    "# Save the results as a variable\n",
    "ten_year_simulation_statistics = ten_year_simulation.summarize_cumulative_return()\n",
    "\n",
    "# Review the 10-year Monte Carlo summary statistics\n",
    "ten_year_simulation_statistics\n"
   ]
  },
  {
   "cell_type": "markdown",
   "metadata": {},
   "source": [
    "### 10 Year Plan Analysis"
   ]
  },
  {
   "cell_type": "code",
   "execution_count": 42,
   "metadata": {},
   "outputs": [
    {
     "data": {
      "text/plain": [
       "63505.7"
      ]
     },
     "execution_count": 42,
     "metadata": {},
     "output_type": "execute_result"
    }
   ],
   "source": [
    "# Print the current balance of the stock and bond portion of the members portfolio\n",
    "total_stocks_bonds"
   ]
  },
  {
   "cell_type": "code",
   "execution_count": 43,
   "metadata": {},
   "outputs": [
    {
     "name": "stdout",
     "output_type": "stream",
     "text": [
      "There is a 95% chance that the current portfolio investment total of 63505.7  with a weight of 80% stock 20% bond will end within in the range of $46062.11 and $414265.24 over the next 10 years.\n"
     ]
    }
   ],
   "source": [
    "# Use the lower and upper `95%` confidence intervals to calculate the range of the possible outcomes for the current stock/bond portfolio\n",
    "ci_lower_ten_cumulative_return = round(ten_year_simulation_statistics[8]*total_stocks_bonds,2)\n",
    "ci_upper_ten_cumulative_return = round(ten_year_simulation_statistics[9]*total_stocks_bonds,2)\n",
    "\n",
    "# Print the result of the calculations\n",
    "print(f\"There is a 95% chance that the current portfolio investment total of {total_stocks_bonds} \"\n",
    "      f\" with a weight of 80% stock 20% bond will end within in the range of\"\n",
    "      f\" ${ci_lower_ten_cumulative_return} and ${ci_upper_ten_cumulative_return} over the next 10 years.\")\n"
   ]
  },
  {
   "cell_type": "code",
   "execution_count": 44,
   "metadata": {
    "tags": []
   },
   "outputs": [],
   "source": [
    "# Create df containing summaries of 10 and 30 year Monte Carlo Simulation\n",
    "monte_summaries_df = pd.concat([\n",
    "    thirty_year_simulation_statistics, \n",
    "    ten_year_simulation_statistics],\n",
    "    axis=1, \n",
    "    keys=['30 Year','10 Year'])"
   ]
  },
  {
   "cell_type": "code",
   "execution_count": 45,
   "metadata": {},
   "outputs": [],
   "source": [
    "# Create cumulative profit and loss dataframe by multiplying stock values by the Monte Carlo return data\n",
    "cumulative_pnl = total_stocks_bonds * monte_summaries_df.drop(['count'])"
   ]
  },
  {
   "cell_type": "code",
   "execution_count": 46,
   "metadata": {},
   "outputs": [
    {
     "data": {
      "text/html": [
       "<style type=\"text/css\">\n",
       "</style>\n",
       "<table id=\"T_de757_\">\n",
       "  <thead>\n",
       "    <tr>\n",
       "      <th class=\"blank level0\" >&nbsp;</th>\n",
       "      <th class=\"col_heading level0 col0\" >30 Year</th>\n",
       "      <th class=\"col_heading level0 col1\" >10 Year</th>\n",
       "    </tr>\n",
       "  </thead>\n",
       "  <tbody>\n",
       "    <tr>\n",
       "      <th id=\"T_de757_level0_row0\" class=\"row_heading level0 row0\" >mean</th>\n",
       "      <td id=\"T_de757_row0_col0\" class=\"data row0 col0\" >397,599</td>\n",
       "      <td id=\"T_de757_row0_col1\" class=\"data row0 col1\" >151,677</td>\n",
       "    </tr>\n",
       "    <tr>\n",
       "      <th id=\"T_de757_level0_row1\" class=\"row_heading level0 row1\" >std</th>\n",
       "      <td id=\"T_de757_row1_col0\" class=\"data row1 col0\" >327,584</td>\n",
       "      <td id=\"T_de757_row1_col1\" class=\"data row1 col1\" >99,024</td>\n",
       "    </tr>\n",
       "    <tr>\n",
       "      <th id=\"T_de757_level0_row2\" class=\"row_heading level0 row2\" >min</th>\n",
       "      <td id=\"T_de757_row2_col0\" class=\"data row2 col0\" >42,167</td>\n",
       "      <td id=\"T_de757_row2_col1\" class=\"data row2 col1\" >13,065</td>\n",
       "    </tr>\n",
       "    <tr>\n",
       "      <th id=\"T_de757_level0_row3\" class=\"row_heading level0 row3\" >25%</th>\n",
       "      <td id=\"T_de757_row3_col0\" class=\"data row3 col0\" >175,424</td>\n",
       "      <td id=\"T_de757_row3_col1\" class=\"data row3 col1\" >86,104</td>\n",
       "    </tr>\n",
       "    <tr>\n",
       "      <th id=\"T_de757_level0_row4\" class=\"row_heading level0 row4\" >50%</th>\n",
       "      <td id=\"T_de757_row4_col0\" class=\"data row4 col0\" >297,445</td>\n",
       "      <td id=\"T_de757_row4_col1\" class=\"data row4 col1\" >128,328</td>\n",
       "    </tr>\n",
       "    <tr>\n",
       "      <th id=\"T_de757_level0_row5\" class=\"row_heading level0 row5\" >75%</th>\n",
       "      <td id=\"T_de757_row5_col0\" class=\"data row5 col0\" >513,188</td>\n",
       "      <td id=\"T_de757_row5_col1\" class=\"data row5 col1\" >187,528</td>\n",
       "    </tr>\n",
       "    <tr>\n",
       "      <th id=\"T_de757_level0_row6\" class=\"row_heading level0 row6\" >max</th>\n",
       "      <td id=\"T_de757_row6_col0\" class=\"data row6 col0\" >3,026,499</td>\n",
       "      <td id=\"T_de757_row6_col1\" class=\"data row6 col1\" >932,211</td>\n",
       "    </tr>\n",
       "    <tr>\n",
       "      <th id=\"T_de757_level0_row7\" class=\"row_heading level0 row7\" >95% CI Lower</th>\n",
       "      <td id=\"T_de757_row7_col0\" class=\"data row7 col0\" >66,268</td>\n",
       "      <td id=\"T_de757_row7_col1\" class=\"data row7 col1\" >46,062</td>\n",
       "    </tr>\n",
       "    <tr>\n",
       "      <th id=\"T_de757_level0_row8\" class=\"row_heading level0 row8\" >95% CI Upper</th>\n",
       "      <td id=\"T_de757_row8_col0\" class=\"data row8 col0\" >1,257,559</td>\n",
       "      <td id=\"T_de757_row8_col1\" class=\"data row8 col1\" >414,265</td>\n",
       "    </tr>\n",
       "  </tbody>\n",
       "</table>\n"
      ],
      "text/plain": [
       "<pandas.io.formats.style.Styler at 0x7fe290c970d0>"
      ]
     },
     "execution_count": 46,
     "metadata": {},
     "output_type": "execute_result"
    }
   ],
   "source": [
    "# Format cumulative profit and loss dataframe\n",
    "cumulative_pnl = cumulative_pnl.style.format(\"{:,.0f}\")\n",
    "\n",
    "# Display cumulative profit and loss dataframe\n",
    "cumulative_pnl"
   ]
  },
  {
   "cell_type": "raw",
   "metadata": {},
   "source": [
    "Based off of the upper and lower 95% confidence interval there is just below a 5% chance that the 10 year option would generate enough income to retire. Most likely, after ten years the portfolio would be worth around $159,346 (as shown by the 10 year mean in the cumulative_pnl dataframe) which is well bellow a comfortable retirement savings. The max projected portfolio size after ten years is $834,491 so theoretically it is possible to earn enough. That is if the client feels the difference in the max projection and $401,000 is enough to retire 20 years early. "
   ]
  }
 ],
 "metadata": {
  "kernelspec": {
   "display_name": "Python 3 (ipykernel)",
   "language": "python",
   "name": "python3"
  },
  "language_info": {
   "codemirror_mode": {
    "name": "ipython",
    "version": 3
   },
   "file_extension": ".py",
   "mimetype": "text/x-python",
   "name": "python",
   "nbconvert_exporter": "python",
   "pygments_lexer": "ipython3",
   "version": "3.7.13"
  }
 },
 "nbformat": 4,
 "nbformat_minor": 4
}
